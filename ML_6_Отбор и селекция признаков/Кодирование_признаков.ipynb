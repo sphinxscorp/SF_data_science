{
  "cells": [
    {
      "cell_type": "code",
      "execution_count": 9,
      "metadata": {
        "id": "rXuqbqHi2BSO"
      },
      "outputs": [],
      "source": [
        "import pandas as pd\n",
        "from sklearn.linear_model import LinearRegression"
      ]
    },
    {
      "cell_type": "markdown",
      "metadata": {
        "id": "z_Z6bFot2Oeg"
      },
      "source": [
        "# Загрузка данных"
      ]
    },
    {
      "cell_type": "code",
      "execution_count": 10,
      "metadata": {
        "id": "WXYdSwui2LKL"
      },
      "outputs": [],
      "source": [
        "%%capture\n",
        "!wget https://www.dropbox.com/s/64ol9q9ssggz6f1/data_ford_price.xlsx"
      ]
    },
    {
      "cell_type": "code",
      "execution_count": 11,
      "metadata": {
        "id": "Wkm_a7aj2Sk_"
      },
      "outputs": [],
      "source": [
        "data = pd.read_excel('data/data_ford_price.xlsx') "
      ]
    },
    {
      "cell_type": "code",
      "execution_count": 12,
      "metadata": {
        "id": "z4vgpzDc2Wlh"
      },
      "outputs": [],
      "source": [
        "y = data['price']\n",
        "X = data.drop(columns='price')"
      ]
    },
    {
      "cell_type": "markdown",
      "metadata": {
        "id": "p1Woo8G12avl"
      },
      "source": [
        "# Предобработка"
      ]
    },
    {
      "cell_type": "code",
      "execution_count": 13,
      "metadata": {
        "colab": {
          "base_uri": "https://localhost:8080/",
          "height": 324
        },
        "id": "qAeVTF4N2YLb",
        "outputId": "bf4b235c-c2c7-4615-fcba-d27f4e021ada"
      },
      "outputs": [
        {
          "ename": "ValueError",
          "evalue": "could not convert string to float: 'clean'",
          "output_type": "error",
          "traceback": [
            "\u001b[1;31m---------------------------------------------------------------------------\u001b[0m",
            "\u001b[1;31mValueError\u001b[0m                                Traceback (most recent call last)",
            "\u001b[1;32md:\\Data Science\\IDE\\ML_6_Отбор и селекция признаков\\Кодирование_признаков.ipynb Ячейка 7\u001b[0m in \u001b[0;36m<module>\u001b[1;34m\u001b[0m\n\u001b[0;32m      <a href='vscode-notebook-cell:/d%3A/Data%20Science/IDE/ML_6_%D0%9E%D1%82%D0%B1%D0%BE%D1%80%20%D0%B8%20%D1%81%D0%B5%D0%BB%D0%B5%D0%BA%D1%86%D0%B8%D1%8F%20%D0%BF%D1%80%D0%B8%D0%B7%D0%BD%D0%B0%D0%BA%D0%BE%D0%B2/%D0%9A%D0%BE%D0%B4%D0%B8%D1%80%D0%BE%D0%B2%D0%B0%D0%BD%D0%B8%D0%B5_%D0%BF%D1%80%D0%B8%D0%B7%D0%BD%D0%B0%D0%BA%D0%BE%D0%B2.ipynb#W6sZmlsZQ%3D%3D?line=0'>1</a>\u001b[0m lr \u001b[39m=\u001b[39m LinearRegression()\n\u001b[1;32m----> <a href='vscode-notebook-cell:/d%3A/Data%20Science/IDE/ML_6_%D0%9E%D1%82%D0%B1%D0%BE%D1%80%20%D0%B8%20%D1%81%D0%B5%D0%BB%D0%B5%D0%BA%D1%86%D0%B8%D1%8F%20%D0%BF%D1%80%D0%B8%D0%B7%D0%BD%D0%B0%D0%BA%D0%BE%D0%B2/%D0%9A%D0%BE%D0%B4%D0%B8%D1%80%D0%BE%D0%B2%D0%B0%D0%BD%D0%B8%D0%B5_%D0%BF%D1%80%D0%B8%D0%B7%D0%BD%D0%B0%D0%BA%D0%BE%D0%B2.ipynb#W6sZmlsZQ%3D%3D?line=1'>2</a>\u001b[0m lr\u001b[39m.\u001b[39;49mfit(X,y)\n",
            "File \u001b[1;32mc:\\Users\\evgen\\AppData\\Local\\Programs\\Python\\Python39\\lib\\site-packages\\sklearn\\linear_model\\_base.py:684\u001b[0m, in \u001b[0;36mLinearRegression.fit\u001b[1;34m(self, X, y, sample_weight)\u001b[0m\n\u001b[0;32m    680\u001b[0m n_jobs_ \u001b[39m=\u001b[39m \u001b[39mself\u001b[39m\u001b[39m.\u001b[39mn_jobs\n\u001b[0;32m    682\u001b[0m accept_sparse \u001b[39m=\u001b[39m \u001b[39mFalse\u001b[39;00m \u001b[39mif\u001b[39;00m \u001b[39mself\u001b[39m\u001b[39m.\u001b[39mpositive \u001b[39melse\u001b[39;00m [\u001b[39m\"\u001b[39m\u001b[39mcsr\u001b[39m\u001b[39m\"\u001b[39m, \u001b[39m\"\u001b[39m\u001b[39mcsc\u001b[39m\u001b[39m\"\u001b[39m, \u001b[39m\"\u001b[39m\u001b[39mcoo\u001b[39m\u001b[39m\"\u001b[39m]\n\u001b[1;32m--> 684\u001b[0m X, y \u001b[39m=\u001b[39m \u001b[39mself\u001b[39;49m\u001b[39m.\u001b[39;49m_validate_data(\n\u001b[0;32m    685\u001b[0m     X, y, accept_sparse\u001b[39m=\u001b[39;49maccept_sparse, y_numeric\u001b[39m=\u001b[39;49m\u001b[39mTrue\u001b[39;49;00m, multi_output\u001b[39m=\u001b[39;49m\u001b[39mTrue\u001b[39;49;00m\n\u001b[0;32m    686\u001b[0m )\n\u001b[0;32m    688\u001b[0m sample_weight \u001b[39m=\u001b[39m _check_sample_weight(\n\u001b[0;32m    689\u001b[0m     sample_weight, X, dtype\u001b[39m=\u001b[39mX\u001b[39m.\u001b[39mdtype, only_non_negative\u001b[39m=\u001b[39m\u001b[39mTrue\u001b[39;00m\n\u001b[0;32m    690\u001b[0m )\n\u001b[0;32m    692\u001b[0m X, y, X_offset, y_offset, X_scale \u001b[39m=\u001b[39m _preprocess_data(\n\u001b[0;32m    693\u001b[0m     X,\n\u001b[0;32m    694\u001b[0m     y,\n\u001b[1;32m   (...)\u001b[0m\n\u001b[0;32m    698\u001b[0m     sample_weight\u001b[39m=\u001b[39msample_weight,\n\u001b[0;32m    699\u001b[0m )\n",
            "File \u001b[1;32mc:\\Users\\evgen\\AppData\\Local\\Programs\\Python\\Python39\\lib\\site-packages\\sklearn\\base.py:596\u001b[0m, in \u001b[0;36mBaseEstimator._validate_data\u001b[1;34m(self, X, y, reset, validate_separately, **check_params)\u001b[0m\n\u001b[0;32m    594\u001b[0m         y \u001b[39m=\u001b[39m check_array(y, input_name\u001b[39m=\u001b[39m\u001b[39m\"\u001b[39m\u001b[39my\u001b[39m\u001b[39m\"\u001b[39m, \u001b[39m*\u001b[39m\u001b[39m*\u001b[39mcheck_y_params)\n\u001b[0;32m    595\u001b[0m     \u001b[39melse\u001b[39;00m:\n\u001b[1;32m--> 596\u001b[0m         X, y \u001b[39m=\u001b[39m check_X_y(X, y, \u001b[39m*\u001b[39m\u001b[39m*\u001b[39mcheck_params)\n\u001b[0;32m    597\u001b[0m     out \u001b[39m=\u001b[39m X, y\n\u001b[0;32m    599\u001b[0m \u001b[39mif\u001b[39;00m \u001b[39mnot\u001b[39;00m no_val_X \u001b[39mand\u001b[39;00m check_params\u001b[39m.\u001b[39mget(\u001b[39m\"\u001b[39m\u001b[39mensure_2d\u001b[39m\u001b[39m\"\u001b[39m, \u001b[39mTrue\u001b[39;00m):\n",
            "File \u001b[1;32mc:\\Users\\evgen\\AppData\\Local\\Programs\\Python\\Python39\\lib\\site-packages\\sklearn\\utils\\validation.py:1074\u001b[0m, in \u001b[0;36mcheck_X_y\u001b[1;34m(X, y, accept_sparse, accept_large_sparse, dtype, order, copy, force_all_finite, ensure_2d, allow_nd, multi_output, ensure_min_samples, ensure_min_features, y_numeric, estimator)\u001b[0m\n\u001b[0;32m   1069\u001b[0m         estimator_name \u001b[39m=\u001b[39m _check_estimator_name(estimator)\n\u001b[0;32m   1070\u001b[0m     \u001b[39mraise\u001b[39;00m \u001b[39mValueError\u001b[39;00m(\n\u001b[0;32m   1071\u001b[0m         \u001b[39mf\u001b[39m\u001b[39m\"\u001b[39m\u001b[39m{\u001b[39;00mestimator_name\u001b[39m}\u001b[39;00m\u001b[39m requires y to be passed, but the target y is None\u001b[39m\u001b[39m\"\u001b[39m\n\u001b[0;32m   1072\u001b[0m     )\n\u001b[1;32m-> 1074\u001b[0m X \u001b[39m=\u001b[39m check_array(\n\u001b[0;32m   1075\u001b[0m     X,\n\u001b[0;32m   1076\u001b[0m     accept_sparse\u001b[39m=\u001b[39;49maccept_sparse,\n\u001b[0;32m   1077\u001b[0m     accept_large_sparse\u001b[39m=\u001b[39;49maccept_large_sparse,\n\u001b[0;32m   1078\u001b[0m     dtype\u001b[39m=\u001b[39;49mdtype,\n\u001b[0;32m   1079\u001b[0m     order\u001b[39m=\u001b[39;49morder,\n\u001b[0;32m   1080\u001b[0m     copy\u001b[39m=\u001b[39;49mcopy,\n\u001b[0;32m   1081\u001b[0m     force_all_finite\u001b[39m=\u001b[39;49mforce_all_finite,\n\u001b[0;32m   1082\u001b[0m     ensure_2d\u001b[39m=\u001b[39;49mensure_2d,\n\u001b[0;32m   1083\u001b[0m     allow_nd\u001b[39m=\u001b[39;49mallow_nd,\n\u001b[0;32m   1084\u001b[0m     ensure_min_samples\u001b[39m=\u001b[39;49mensure_min_samples,\n\u001b[0;32m   1085\u001b[0m     ensure_min_features\u001b[39m=\u001b[39;49mensure_min_features,\n\u001b[0;32m   1086\u001b[0m     estimator\u001b[39m=\u001b[39;49mestimator,\n\u001b[0;32m   1087\u001b[0m     input_name\u001b[39m=\u001b[39;49m\u001b[39m\"\u001b[39;49m\u001b[39mX\u001b[39;49m\u001b[39m\"\u001b[39;49m,\n\u001b[0;32m   1088\u001b[0m )\n\u001b[0;32m   1090\u001b[0m y \u001b[39m=\u001b[39m _check_y(y, multi_output\u001b[39m=\u001b[39mmulti_output, y_numeric\u001b[39m=\u001b[39my_numeric, estimator\u001b[39m=\u001b[39mestimator)\n\u001b[0;32m   1092\u001b[0m check_consistent_length(X, y)\n",
            "File \u001b[1;32mc:\\Users\\evgen\\AppData\\Local\\Programs\\Python\\Python39\\lib\\site-packages\\sklearn\\utils\\validation.py:856\u001b[0m, in \u001b[0;36mcheck_array\u001b[1;34m(array, accept_sparse, accept_large_sparse, dtype, order, copy, force_all_finite, ensure_2d, allow_nd, ensure_min_samples, ensure_min_features, estimator, input_name)\u001b[0m\n\u001b[0;32m    854\u001b[0m         array \u001b[39m=\u001b[39m array\u001b[39m.\u001b[39mastype(dtype, casting\u001b[39m=\u001b[39m\u001b[39m\"\u001b[39m\u001b[39munsafe\u001b[39m\u001b[39m\"\u001b[39m, copy\u001b[39m=\u001b[39m\u001b[39mFalse\u001b[39;00m)\n\u001b[0;32m    855\u001b[0m     \u001b[39melse\u001b[39;00m:\n\u001b[1;32m--> 856\u001b[0m         array \u001b[39m=\u001b[39m np\u001b[39m.\u001b[39;49masarray(array, order\u001b[39m=\u001b[39;49morder, dtype\u001b[39m=\u001b[39;49mdtype)\n\u001b[0;32m    857\u001b[0m \u001b[39mexcept\u001b[39;00m ComplexWarning \u001b[39mas\u001b[39;00m complex_warning:\n\u001b[0;32m    858\u001b[0m     \u001b[39mraise\u001b[39;00m \u001b[39mValueError\u001b[39;00m(\n\u001b[0;32m    859\u001b[0m         \u001b[39m\"\u001b[39m\u001b[39mComplex data not supported\u001b[39m\u001b[39m\\n\u001b[39;00m\u001b[39m{}\u001b[39;00m\u001b[39m\\n\u001b[39;00m\u001b[39m\"\u001b[39m\u001b[39m.\u001b[39mformat(array)\n\u001b[0;32m    860\u001b[0m     ) \u001b[39mfrom\u001b[39;00m \u001b[39mcomplex_warning\u001b[39;00m\n",
            "File \u001b[1;32mc:\\Users\\evgen\\AppData\\Local\\Programs\\Python\\Python39\\lib\\site-packages\\pandas\\core\\generic.py:2072\u001b[0m, in \u001b[0;36mNDFrame.__array__\u001b[1;34m(self, dtype)\u001b[0m\n\u001b[0;32m   2071\u001b[0m \u001b[39mdef\u001b[39;00m \u001b[39m__array__\u001b[39m(\u001b[39mself\u001b[39m, dtype: npt\u001b[39m.\u001b[39mDTypeLike \u001b[39m|\u001b[39m \u001b[39mNone\u001b[39;00m \u001b[39m=\u001b[39m \u001b[39mNone\u001b[39;00m) \u001b[39m-\u001b[39m\u001b[39m>\u001b[39m np\u001b[39m.\u001b[39mndarray:\n\u001b[1;32m-> 2072\u001b[0m     \u001b[39mreturn\u001b[39;00m np\u001b[39m.\u001b[39;49masarray(\u001b[39mself\u001b[39;49m\u001b[39m.\u001b[39;49m_values, dtype\u001b[39m=\u001b[39;49mdtype)\n",
            "\u001b[1;31mValueError\u001b[0m: could not convert string to float: 'clean'"
          ]
        }
      ],
      "source": [
        "lr = LinearRegression()\n",
        "lr.fit(X,y)"
      ]
    },
    {
      "cell_type": "markdown",
      "metadata": {
        "id": "vWNgsXjv3LTK"
      },
      "source": [
        "_______________________\n",
        "Сторонний пример"
      ]
    },
    {
      "cell_type": "code",
      "execution_count": null,
      "metadata": {
        "colab": {
          "base_uri": "https://localhost:8080/"
        },
        "id": "ugcPTwHa3OgT",
        "outputId": "6b79c10f-fcd0-4a8a-cd5b-434a10f23cad"
      },
      "outputs": [
        {
          "name": "stdout",
          "output_type": "stream",
          "text": [
            "категории: ['BSc' 'MSc' 'PhD' 'начальное' 'нет' 'среднее']\n"
          ]
        },
        {
          "data": {
            "text/plain": [
              "array([[0, 0, 0, 0, 1, 0],\n",
              "       [0, 1, 0, 0, 0, 0]])"
            ]
          },
          "execution_count": 9,
          "metadata": {},
          "output_type": "execute_result"
        }
      ],
      "source": [
        "from sklearn.preprocessing  import LabelBinarizer\n",
        " \n",
        "lb = LabelBinarizer()\n",
        " \n",
        "education = ['нет', 'начальное', 'среднее', 'BSc', 'MSc', 'начальное', 'PhD']\n",
        "lb.fit(education)\n",
        " \n",
        "print('категории:', lb.classes_) \n",
        "lb.transform(['нет', 'MSc'])"
      ]
    },
    {
      "cell_type": "markdown",
      "metadata": {
        "id": "GTiDn83d3S7s"
      },
      "source": [
        "___________________________________"
      ]
    },
    {
      "cell_type": "code",
      "execution_count": null,
      "metadata": {
        "colab": {
          "base_uri": "https://localhost:8080/"
        },
        "id": "WTjBKN113APL",
        "outputId": "e1344eb5-7be9-47e2-ae5d-b0a9823adb83"
      },
      "outputs": [
        {
          "name": "stdout",
          "output_type": "stream",
          "text": [
            "Число уникальных значений призкака cylinders:  6\n",
            "Число уникальных значений призкака title_status:  5\n",
            "Число уникальных значений призкака transmission:  3\n",
            "Число уникальных значений призкака drive:  3\n",
            "Число уникальных значений призкака size:  4\n"
          ]
        }
      ],
      "source": [
        "columns_to_change = ['cylinders', 'title_status', 'transmission', 'drive', 'size']\n",
        " \n",
        "for column in columns_to_change:\n",
        " print('Число уникальных значений призкака {}: '.format(column), data[column].nunique())"
      ]
    },
    {
      "cell_type": "code",
      "execution_count": null,
      "metadata": {
        "colab": {
          "base_uri": "https://localhost:8080/"
        },
        "id": "vDYtJ8wu3cdH",
        "outputId": "60e0daa1-f4f7-449d-e584-ea5c86c85cac"
      },
      "outputs": [
        {
          "name": "stdout",
          "output_type": "stream",
          "text": [
            "['cylinders_3' 'cylinders_4' 'cylinders_5' 'cylinders_6' 'cylinders_8'\n",
            " 'cylinders_10' 'title_status_clean' 'title_status_lien'\n",
            " 'title_status_missing' 'title_status_rebuilt' 'title_status_salvage'\n",
            " 'transmission_automatic' 'transmission_manual' 'transmission_other'\n",
            " 'drive_4wd' 'drive_fwd' 'drive_rwd' 'drive_nan' 'size_compact'\n",
            " 'size_full-size' 'size_mid-size' 'size_sub-compact' 'size_nan']\n"
          ]
        },
        {
          "name": "stderr",
          "output_type": "stream",
          "text": [
            "/usr/local/lib/python3.7/dist-packages/sklearn/utils/deprecation.py:87: FutureWarning: Function get_feature_names is deprecated; get_feature_names is deprecated in 1.0 and will be removed in 1.2. Please use get_feature_names_out instead.\n",
            "  warnings.warn(msg, category=FutureWarning)\n"
          ]
        }
      ],
      "source": [
        "from sklearn.preprocessing import OneHotEncoder\n",
        " \n",
        "one_hot_encoder = OneHotEncoder()\n",
        " \n",
        "# 'учим' и сразу применяем преобразование к выборке, результат переводим в массив\n",
        "data_onehot = one_hot_encoder.fit_transform(data[columns_to_change]).toarray() \n",
        "# запишем полученные названия новых колонок в отдельную переменную\n",
        "column_names = one_hot_encoder.get_feature_names(columns_to_change)\n",
        "print(column_names)"
      ]
    },
    {
      "cell_type": "code",
      "execution_count": 14,
      "metadata": {},
      "outputs": [
        {
          "name": "stderr",
          "output_type": "stream",
          "text": [
            "\"wget\" �� ���� ����७��� ��� ���譥�\n",
            "��������, �ᯮ��塞�� �ணࠬ��� ��� ������ 䠩���.\n"
          ]
        }
      ],
      "source": [
        "!wget https://www.dropbox.com/s/64ol9q9ssggz6f1/data_ford_price.xlsx"
      ]
    },
    {
      "cell_type": "code",
      "execution_count": 17,
      "metadata": {},
      "outputs": [
        {
          "data": {
            "text/html": [
              "<div>\n",
              "<style scoped>\n",
              "    .dataframe tbody tr th:only-of-type {\n",
              "        vertical-align: middle;\n",
              "    }\n",
              "\n",
              "    .dataframe tbody tr th {\n",
              "        vertical-align: top;\n",
              "    }\n",
              "\n",
              "    .dataframe thead th {\n",
              "        text-align: right;\n",
              "    }\n",
              "</style>\n",
              "<table border=\"1\" class=\"dataframe\">\n",
              "  <thead>\n",
              "    <tr style=\"text-align: right;\">\n",
              "      <th></th>\n",
              "      <th>price</th>\n",
              "      <th>year</th>\n",
              "      <th>condition</th>\n",
              "      <th>cylinders</th>\n",
              "      <th>odometer</th>\n",
              "      <th>title_status</th>\n",
              "      <th>transmission</th>\n",
              "      <th>drive</th>\n",
              "      <th>size</th>\n",
              "      <th>lat</th>\n",
              "      <th>long</th>\n",
              "      <th>weather</th>\n",
              "    </tr>\n",
              "  </thead>\n",
              "  <tbody>\n",
              "    <tr>\n",
              "      <th>0</th>\n",
              "      <td>43900</td>\n",
              "      <td>2016</td>\n",
              "      <td>4</td>\n",
              "      <td>6</td>\n",
              "      <td>43500</td>\n",
              "      <td>clean</td>\n",
              "      <td>automatic</td>\n",
              "      <td>4wd</td>\n",
              "      <td>full-size</td>\n",
              "      <td>36.471500</td>\n",
              "      <td>-82.483400</td>\n",
              "      <td>59.0</td>\n",
              "    </tr>\n",
              "    <tr>\n",
              "      <th>1</th>\n",
              "      <td>15490</td>\n",
              "      <td>2009</td>\n",
              "      <td>2</td>\n",
              "      <td>8</td>\n",
              "      <td>98131</td>\n",
              "      <td>clean</td>\n",
              "      <td>automatic</td>\n",
              "      <td>4wd</td>\n",
              "      <td>full-size</td>\n",
              "      <td>40.468826</td>\n",
              "      <td>-74.281734</td>\n",
              "      <td>52.0</td>\n",
              "    </tr>\n",
              "    <tr>\n",
              "      <th>2</th>\n",
              "      <td>2495</td>\n",
              "      <td>2002</td>\n",
              "      <td>2</td>\n",
              "      <td>8</td>\n",
              "      <td>201803</td>\n",
              "      <td>clean</td>\n",
              "      <td>automatic</td>\n",
              "      <td>4wd</td>\n",
              "      <td>full-size</td>\n",
              "      <td>42.477134</td>\n",
              "      <td>-82.949564</td>\n",
              "      <td>45.0</td>\n",
              "    </tr>\n",
              "    <tr>\n",
              "      <th>3</th>\n",
              "      <td>1300</td>\n",
              "      <td>2000</td>\n",
              "      <td>1</td>\n",
              "      <td>8</td>\n",
              "      <td>170305</td>\n",
              "      <td>rebuilt</td>\n",
              "      <td>automatic</td>\n",
              "      <td>4wd</td>\n",
              "      <td>full-size</td>\n",
              "      <td>40.764373</td>\n",
              "      <td>-82.349503</td>\n",
              "      <td>49.0</td>\n",
              "    </tr>\n",
              "    <tr>\n",
              "      <th>4</th>\n",
              "      <td>13865</td>\n",
              "      <td>2010</td>\n",
              "      <td>3</td>\n",
              "      <td>8</td>\n",
              "      <td>166062</td>\n",
              "      <td>clean</td>\n",
              "      <td>automatic</td>\n",
              "      <td>4wd</td>\n",
              "      <td>NaN</td>\n",
              "      <td>49.210949</td>\n",
              "      <td>-123.114720</td>\n",
              "      <td>NaN</td>\n",
              "    </tr>\n",
              "    <tr>\n",
              "      <th>...</th>\n",
              "      <td>...</td>\n",
              "      <td>...</td>\n",
              "      <td>...</td>\n",
              "      <td>...</td>\n",
              "      <td>...</td>\n",
              "      <td>...</td>\n",
              "      <td>...</td>\n",
              "      <td>...</td>\n",
              "      <td>...</td>\n",
              "      <td>...</td>\n",
              "      <td>...</td>\n",
              "      <td>...</td>\n",
              "    </tr>\n",
              "    <tr>\n",
              "      <th>7012</th>\n",
              "      <td>22500</td>\n",
              "      <td>2015</td>\n",
              "      <td>3</td>\n",
              "      <td>6</td>\n",
              "      <td>23500</td>\n",
              "      <td>clean</td>\n",
              "      <td>automatic</td>\n",
              "      <td>rwd</td>\n",
              "      <td>full-size</td>\n",
              "      <td>32.680700</td>\n",
              "      <td>-117.169800</td>\n",
              "      <td>59.0</td>\n",
              "    </tr>\n",
              "    <tr>\n",
              "      <th>7013</th>\n",
              "      <td>5975</td>\n",
              "      <td>2005</td>\n",
              "      <td>2</td>\n",
              "      <td>8</td>\n",
              "      <td>0</td>\n",
              "      <td>clean</td>\n",
              "      <td>automatic</td>\n",
              "      <td>rwd</td>\n",
              "      <td>full-size</td>\n",
              "      <td>38.213303</td>\n",
              "      <td>-85.785762</td>\n",
              "      <td>50.0</td>\n",
              "    </tr>\n",
              "    <tr>\n",
              "      <th>7014</th>\n",
              "      <td>9999</td>\n",
              "      <td>2006</td>\n",
              "      <td>3</td>\n",
              "      <td>8</td>\n",
              "      <td>161514</td>\n",
              "      <td>clean</td>\n",
              "      <td>automatic</td>\n",
              "      <td>NaN</td>\n",
              "      <td>full-size</td>\n",
              "      <td>37.609783</td>\n",
              "      <td>-120.995406</td>\n",
              "      <td>59.0</td>\n",
              "    </tr>\n",
              "    <tr>\n",
              "      <th>7015</th>\n",
              "      <td>10900</td>\n",
              "      <td>2011</td>\n",
              "      <td>2</td>\n",
              "      <td>8</td>\n",
              "      <td>164000</td>\n",
              "      <td>clean</td>\n",
              "      <td>automatic</td>\n",
              "      <td>4wd</td>\n",
              "      <td>full-size</td>\n",
              "      <td>43.140600</td>\n",
              "      <td>-93.385000</td>\n",
              "      <td>47.0</td>\n",
              "    </tr>\n",
              "    <tr>\n",
              "      <th>7016</th>\n",
              "      <td>18000</td>\n",
              "      <td>2010</td>\n",
              "      <td>2</td>\n",
              "      <td>8</td>\n",
              "      <td>104000</td>\n",
              "      <td>clean</td>\n",
              "      <td>automatic</td>\n",
              "      <td>4wd</td>\n",
              "      <td>full-size</td>\n",
              "      <td>37.987200</td>\n",
              "      <td>-84.178900</td>\n",
              "      <td>50.0</td>\n",
              "    </tr>\n",
              "  </tbody>\n",
              "</table>\n",
              "<p>7017 rows × 12 columns</p>\n",
              "</div>"
            ],
            "text/plain": [
              "      price  year  condition  cylinders  odometer title_status transmission  \\\n",
              "0     43900  2016          4          6     43500        clean    automatic   \n",
              "1     15490  2009          2          8     98131        clean    automatic   \n",
              "2      2495  2002          2          8    201803        clean    automatic   \n",
              "3      1300  2000          1          8    170305      rebuilt    automatic   \n",
              "4     13865  2010          3          8    166062        clean    automatic   \n",
              "...     ...   ...        ...        ...       ...          ...          ...   \n",
              "7012  22500  2015          3          6     23500        clean    automatic   \n",
              "7013   5975  2005          2          8         0        clean    automatic   \n",
              "7014   9999  2006          3          8    161514        clean    automatic   \n",
              "7015  10900  2011          2          8    164000        clean    automatic   \n",
              "7016  18000  2010          2          8    104000        clean    automatic   \n",
              "\n",
              "     drive       size        lat        long  weather  \n",
              "0      4wd  full-size  36.471500  -82.483400     59.0  \n",
              "1      4wd  full-size  40.468826  -74.281734     52.0  \n",
              "2      4wd  full-size  42.477134  -82.949564     45.0  \n",
              "3      4wd  full-size  40.764373  -82.349503     49.0  \n",
              "4      4wd        NaN  49.210949 -123.114720      NaN  \n",
              "...    ...        ...        ...         ...      ...  \n",
              "7012   rwd  full-size  32.680700 -117.169800     59.0  \n",
              "7013   rwd  full-size  38.213303  -85.785762     50.0  \n",
              "7014   NaN  full-size  37.609783 -120.995406     59.0  \n",
              "7015   4wd  full-size  43.140600  -93.385000     47.0  \n",
              "7016   4wd  full-size  37.987200  -84.178900     50.0  \n",
              "\n",
              "[7017 rows x 12 columns]"
            ]
          },
          "execution_count": 17,
          "metadata": {},
          "output_type": "execute_result"
        }
      ],
      "source": [
        "pd.read_excel('data/data_ford_price.xlsx')"
      ]
    },
    {
      "cell_type": "code",
      "execution_count": null,
      "metadata": {},
      "outputs": [],
      "source": []
    }
  ],
  "metadata": {
    "colab": {
      "name": "Кодирование_признаков.ipynb",
      "provenance": []
    },
    "kernelspec": {
      "display_name": "Python 3.9.10 64-bit",
      "language": "python",
      "name": "python3"
    },
    "language_info": {
      "codemirror_mode": {
        "name": "ipython",
        "version": 3
      },
      "file_extension": ".py",
      "mimetype": "text/x-python",
      "name": "python",
      "nbconvert_exporter": "python",
      "pygments_lexer": "ipython3",
      "version": "3.9.10"
    },
    "vscode": {
      "interpreter": {
        "hash": "611f72dce2680478b63cff690f1b31c93fe70ec400b4c79237c69a5b15d56895"
      }
    }
  },
  "nbformat": 4,
  "nbformat_minor": 0
}
