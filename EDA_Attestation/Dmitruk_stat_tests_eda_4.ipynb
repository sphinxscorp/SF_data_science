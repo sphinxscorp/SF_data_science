{
  "cells": [
    {
      "cell_type": "markdown",
      "metadata": {
        "id": "OHVffejibt2_"
      },
      "source": [
        "# Установка библиотек"
      ]
    },
    {
      "cell_type": "code",
      "execution_count": 1,
      "metadata": {
        "id": "KduVFzA8a6FL"
      },
      "outputs": [],
      "source": [
        "import pandas as pd #для работы с таблицами"
      ]
    },
    {
      "cell_type": "markdown",
      "metadata": {
        "id": "YulE_s4FcYUK"
      },
      "source": [
        "Для автоматического применения статистического критерия (теста) используется модуль `stats` библиотеки `scipy`.\n",
        "\n",
        "Этот модуль содержит большое количество вероятностных распределений, корреляционные функции и статистические тесты и многое другое.\n",
        "\n",
        "Также активно используется библиотека `statsmodels`\n",
        "\n",
        "Для установки библиотеки `scipy` и `statsmodels` можно воспользоваться менеджером пакетов `pip`."
      ]
    },
    {
      "cell_type": "code",
      "execution_count": null,
      "metadata": {
        "colab": {
          "base_uri": "https://localhost:8080/"
        },
        "id": "EcpkUidIb7Am",
        "outputId": "dcb3ae50-e6a8-47d6-b525-9ab047eec3ff"
      },
      "outputs": [
        {
          "name": "stdout",
          "output_type": "stream",
          "text": [
            "Looking in indexes: https://pypi.org/simple, https://us-python.pkg.dev/colab-wheels/public/simple/\n",
            "Requirement already satisfied: scipy in /usr/local/lib/python3.7/dist-packages (1.4.1)\n",
            "Requirement already satisfied: numpy>=1.13.3 in /usr/local/lib/python3.7/dist-packages (from scipy) (1.21.6)\n"
          ]
        }
      ],
      "source": [
        "!pip install scipy"
      ]
    },
    {
      "cell_type": "code",
      "execution_count": null,
      "metadata": {
        "colab": {
          "base_uri": "https://localhost:8080/"
        },
        "id": "zal3K0H0_qIx",
        "outputId": "30b23e42-3c36-4eaa-cbae-84a23bde57d1"
      },
      "outputs": [
        {
          "name": "stdout",
          "output_type": "stream",
          "text": [
            "Looking in indexes: https://pypi.org/simple, https://us-python.pkg.dev/colab-wheels/public/simple/\n",
            "Requirement already satisfied: statsmodels in /usr/local/lib/python3.7/dist-packages (0.10.2)\n",
            "Requirement already satisfied: patsy>=0.4.0 in /usr/local/lib/python3.7/dist-packages (from statsmodels) (0.5.2)\n",
            "Requirement already satisfied: scipy>=0.18 in /usr/local/lib/python3.7/dist-packages (from statsmodels) (1.4.1)\n",
            "Requirement already satisfied: numpy>=1.11 in /usr/local/lib/python3.7/dist-packages (from statsmodels) (1.21.6)\n",
            "Requirement already satisfied: pandas>=0.19 in /usr/local/lib/python3.7/dist-packages (from statsmodels) (1.3.5)\n",
            "Requirement already satisfied: pytz>=2017.3 in /usr/local/lib/python3.7/dist-packages (from pandas>=0.19->statsmodels) (2022.1)\n",
            "Requirement already satisfied: python-dateutil>=2.7.3 in /usr/local/lib/python3.7/dist-packages (from pandas>=0.19->statsmodels) (2.8.2)\n",
            "Requirement already satisfied: six in /usr/local/lib/python3.7/dist-packages (from patsy>=0.4.0->statsmodels) (1.15.0)\n"
          ]
        }
      ],
      "source": [
        "!pip install statsmodels"
      ]
    },
    {
      "cell_type": "markdown",
      "metadata": {
        "id": "-vBWXginfhcC"
      },
      "source": [
        "\n",
        "# Загрузка данных"
      ]
    },
    {
      "cell_type": "markdown",
      "metadata": {
        "id": "2dThpRAafkwo"
      },
      "source": [
        "Для скачивания данных используем команду `!wget`. \n",
        "\n",
        "Данные появятся в локальной директории.\n",
        "\n",
        "Мы будем использовать информацию о диаметре пицц разных производителей."
      ]
    },
    {
      "cell_type": "code",
      "execution_count": null,
      "metadata": {
        "colab": {
          "base_uri": "https://localhost:8080/"
        },
        "id": "KNT0oXUSdTDp",
        "outputId": "3ea4f985-613b-4717-997f-f16e868107d5"
      },
      "outputs": [
        {
          "name": "stdout",
          "output_type": "stream",
          "text": [
            "--2022-07-04 20:22:01--  https://raw.githubusercontent.com/harika-bonthu/Hypothesis-test-examples/main/pizzas.csv\n",
            "Resolving raw.githubusercontent.com (raw.githubusercontent.com)... 185.199.108.133, 185.199.109.133, 185.199.110.133, ...\n",
            "Connecting to raw.githubusercontent.com (raw.githubusercontent.com)|185.199.108.133|:443... connected.\n",
            "HTTP request sent, awaiting response... 200 OK\n",
            "Length: 539 [text/plain]\n",
            "Saving to: ‘pizzas.csv’\n",
            "\n",
            "pizzas.csv          100%[===================>]     539  --.-KB/s    in 0s      \n",
            "\n",
            "2022-07-04 20:22:01 (13.1 MB/s) - ‘pizzas.csv’ saved [539/539]\n",
            "\n"
          ]
        }
      ],
      "source": [
        "!wget https://raw.githubusercontent.com/harika-bonthu/Hypothesis-test-examples/main/pizzas.csv"
      ]
    },
    {
      "cell_type": "markdown",
      "metadata": {
        "id": "vCArXsDrfy2H"
      },
      "source": [
        "Загрузим данные в память ноутбука."
      ]
    },
    {
      "cell_type": "code",
      "execution_count": 30,
      "metadata": {
        "id": "g_Ew2HTZfyOF"
      },
      "outputs": [],
      "source": [
        "data = pd.read_csv('Data/new-site.csv')"
      ]
    },
    {
      "cell_type": "code",
      "execution_count": 31,
      "metadata": {
        "colab": {
          "base_uri": "https://localhost:8080/",
          "height": 206
        },
        "id": "1q4YmSNvgokX",
        "outputId": "3a2f7a9f-f228-4305-8c71-3458ea41b611"
      },
      "outputs": [
        {
          "data": {
            "text/html": [
              "<div>\n",
              "<style scoped>\n",
              "    .dataframe tbody tr th:only-of-type {\n",
              "        vertical-align: middle;\n",
              "    }\n",
              "\n",
              "    .dataframe tbody tr th {\n",
              "        vertical-align: top;\n",
              "    }\n",
              "\n",
              "    .dataframe thead th {\n",
              "        text-align: right;\n",
              "    }\n",
              "</style>\n",
              "<table border=\"1\" class=\"dataframe\">\n",
              "  <thead>\n",
              "    <tr style=\"text-align: right;\">\n",
              "      <th></th>\n",
              "      <th>site\\tdwell-time</th>\n",
              "    </tr>\n",
              "  </thead>\n",
              "  <tbody>\n",
              "    <tr>\n",
              "      <th>0</th>\n",
              "      <td>0\\t2</td>\n",
              "    </tr>\n",
              "    <tr>\n",
              "      <th>1</th>\n",
              "      <td>1\\t48</td>\n",
              "    </tr>\n",
              "    <tr>\n",
              "      <th>2</th>\n",
              "      <td>0\\t15</td>\n",
              "    </tr>\n",
              "    <tr>\n",
              "      <th>3</th>\n",
              "      <td>1\\t16</td>\n",
              "    </tr>\n",
              "    <tr>\n",
              "      <th>4</th>\n",
              "      <td>0\\t38</td>\n",
              "    </tr>\n",
              "  </tbody>\n",
              "</table>\n",
              "</div>"
            ],
            "text/plain": [
              "  site\\tdwell-time\n",
              "0             0\\t2\n",
              "1            1\\t48\n",
              "2            0\\t15\n",
              "3            1\\t16\n",
              "4            0\\t38"
            ]
          },
          "execution_count": 31,
          "metadata": {},
          "output_type": "execute_result"
        }
      ],
      "source": [
        "data.head()"
      ]
    },
    {
      "cell_type": "code",
      "execution_count": 32,
      "metadata": {},
      "outputs": [],
      "source": [
        "data['site'] = data['site\\tdwell-time'].apply(lambda x: x.split()[0]).astype('int')"
      ]
    },
    {
      "cell_type": "code",
      "execution_count": 33,
      "metadata": {},
      "outputs": [],
      "source": [
        "data['tdwell-time'] = data['site\\tdwell-time'].apply(lambda x: x.split()[1]).astype('int')"
      ]
    },
    {
      "cell_type": "code",
      "execution_count": 34,
      "metadata": {},
      "outputs": [],
      "source": [
        "data.drop('site\\tdwell-time', axis = 1, inplace=True)"
      ]
    },
    {
      "cell_type": "code",
      "execution_count": 35,
      "metadata": {},
      "outputs": [
        {
          "data": {
            "text/html": [
              "<div>\n",
              "<style scoped>\n",
              "    .dataframe tbody tr th:only-of-type {\n",
              "        vertical-align: middle;\n",
              "    }\n",
              "\n",
              "    .dataframe tbody tr th {\n",
              "        vertical-align: top;\n",
              "    }\n",
              "\n",
              "    .dataframe thead th {\n",
              "        text-align: right;\n",
              "    }\n",
              "</style>\n",
              "<table border=\"1\" class=\"dataframe\">\n",
              "  <thead>\n",
              "    <tr style=\"text-align: right;\">\n",
              "      <th></th>\n",
              "      <th>site</th>\n",
              "      <th>tdwell-time</th>\n",
              "    </tr>\n",
              "  </thead>\n",
              "  <tbody>\n",
              "    <tr>\n",
              "      <th>0</th>\n",
              "      <td>0</td>\n",
              "      <td>2</td>\n",
              "    </tr>\n",
              "    <tr>\n",
              "      <th>1</th>\n",
              "      <td>1</td>\n",
              "      <td>48</td>\n",
              "    </tr>\n",
              "    <tr>\n",
              "      <th>2</th>\n",
              "      <td>0</td>\n",
              "      <td>15</td>\n",
              "    </tr>\n",
              "    <tr>\n",
              "      <th>3</th>\n",
              "      <td>1</td>\n",
              "      <td>16</td>\n",
              "    </tr>\n",
              "    <tr>\n",
              "      <th>4</th>\n",
              "      <td>0</td>\n",
              "      <td>38</td>\n",
              "    </tr>\n",
              "    <tr>\n",
              "      <th>5</th>\n",
              "      <td>1</td>\n",
              "      <td>169</td>\n",
              "    </tr>\n",
              "    <tr>\n",
              "      <th>6</th>\n",
              "      <td>0</td>\n",
              "      <td>571</td>\n",
              "    </tr>\n",
              "    <tr>\n",
              "      <th>7</th>\n",
              "      <td>1</td>\n",
              "      <td>38</td>\n",
              "    </tr>\n",
              "    <tr>\n",
              "      <th>8</th>\n",
              "      <td>0</td>\n",
              "      <td>233</td>\n",
              "    </tr>\n",
              "    <tr>\n",
              "      <th>9</th>\n",
              "      <td>0</td>\n",
              "      <td>146</td>\n",
              "    </tr>\n",
              "  </tbody>\n",
              "</table>\n",
              "</div>"
            ],
            "text/plain": [
              "   site  tdwell-time\n",
              "0     0            2\n",
              "1     1           48\n",
              "2     0           15\n",
              "3     1           16\n",
              "4     0           38\n",
              "5     1          169\n",
              "6     0          571\n",
              "7     1           38\n",
              "8     0          233\n",
              "9     0          146"
            ]
          },
          "execution_count": 35,
          "metadata": {},
          "output_type": "execute_result"
        }
      ],
      "source": [
        "data.head(10)"
      ]
    },
    {
      "cell_type": "code",
      "execution_count": 40,
      "metadata": {},
      "outputs": [
        {
          "data": {
            "text/plain": [
              "16898"
            ]
          },
          "metadata": {},
          "output_type": "display_data"
        }
      ],
      "source": [
        "sum_A = data[data['site'] == 0]['tdwell-time'].sum()\n",
        "display(sum_A)"
      ]
    },
    {
      "cell_type": "code",
      "execution_count": 42,
      "metadata": {},
      "outputs": [
        {
          "data": {
            "text/plain": [
              "10032"
            ]
          },
          "metadata": {},
          "output_type": "display_data"
        }
      ],
      "source": [
        "sum_B = data[data['site'] == 1]['tdwell-time'].sum()\n",
        "display(sum_B)"
      ]
    },
    {
      "cell_type": "code",
      "execution_count": 44,
      "metadata": {},
      "outputs": [
        {
          "data": {
            "text/plain": [
              "91.0"
            ]
          },
          "metadata": {},
          "output_type": "display_data"
        }
      ],
      "source": [
        "mean_A = data[data['site'] == 0]['tdwell-time'].mean()\n",
        "display(round(mean_A, 0))"
      ]
    },
    {
      "cell_type": "code",
      "execution_count": 45,
      "metadata": {},
      "outputs": [
        {
          "data": {
            "text/plain": [
              "88.0"
            ]
          },
          "metadata": {},
          "output_type": "display_data"
        }
      ],
      "source": [
        "mean_B = data[data['site'] == 1]['tdwell-time'].mean()\n",
        "display(round(mean_B, 0))"
      ]
    },
    {
      "cell_type": "markdown",
      "metadata": {
        "id": "W7hG5sEM2lmb"
      },
      "source": [
        "# Проверка данных на нормальность\n"
      ]
    },
    {
      "cell_type": "code",
      "execution_count": 46,
      "metadata": {
        "id": "I9M0a3qn2QIw"
      },
      "outputs": [],
      "source": [
        "H0 = 'Данные распределены нормально'\n",
        "Ha = 'Данные не распределены нормально (мы отвергаем H0)'"
      ]
    },
    {
      "cell_type": "markdown",
      "metadata": {
        "id": "0VR1hwcS3J7Y"
      },
      "source": [
        "Установим уровень значимости"
      ]
    },
    {
      "cell_type": "code",
      "execution_count": 47,
      "metadata": {
        "id": "4Kh4PVmV3MfS"
      },
      "outputs": [],
      "source": [
        "alpha = 0.05"
      ]
    },
    {
      "cell_type": "markdown",
      "metadata": {
        "id": "pCXYmT6Ix2H1"
      },
      "source": [
        "## Тест Шапиро-Уилка"
      ]
    },
    {
      "cell_type": "code",
      "execution_count": 48,
      "metadata": {
        "id": "H7xzCLs03M7v"
      },
      "outputs": [],
      "source": [
        "from scipy.stats import shapiro"
      ]
    },
    {
      "cell_type": "code",
      "execution_count": 57,
      "metadata": {
        "colab": {
          "base_uri": "https://localhost:8080/"
        },
        "id": "z62NREnsx7sn",
        "outputId": "59701e02-78b6-4b50-b523-c6f70b75a64e"
      },
      "outputs": [
        {
          "name": "stdout",
          "output_type": "stream",
          "text": [
            "p=0.000\n",
            "Данные не распределены нормально (мы отвергаем H0)\n"
          ]
        }
      ],
      "source": [
        "_, p = shapiro(data[data['site'] == 0]['tdwell-time'])\n",
        "print('p=%.3f' % p)\n",
        "\n",
        "# Интерпретация \n",
        "\n",
        "if p > alpha:\n",
        "\tprint(H0)\n",
        "else:\n",
        "\tprint(Ha)"
      ]
    },
    {
      "cell_type": "code",
      "execution_count": 58,
      "metadata": {},
      "outputs": [
        {
          "name": "stdout",
          "output_type": "stream",
          "text": [
            "p=0.000\n",
            "Данные не распределены нормально (мы отвергаем H0)\n"
          ]
        }
      ],
      "source": [
        "_, p = shapiro(data[data['site'] == 1]['tdwell-time'])\n",
        "print('p=%.3f' % p)\n",
        "\n",
        "# Интерпретация \n",
        "\n",
        "if p > alpha:\n",
        "\tprint(H0)\n",
        "else:\n",
        "\tprint(Ha)"
      ]
    },
    {
      "cell_type": "markdown",
      "metadata": {
        "id": "ZUTL3OctykmR"
      },
      "source": [
        "## Тест Д’Агостино"
      ]
    },
    {
      "cell_type": "code",
      "execution_count": 50,
      "metadata": {
        "id": "V3rmWxUTyl_y"
      },
      "outputs": [],
      "source": [
        "from scipy.stats import normaltest"
      ]
    },
    {
      "cell_type": "code",
      "execution_count": 53,
      "metadata": {
        "colab": {
          "base_uri": "https://localhost:8080/"
        },
        "id": "W4Ma9jelyqbB",
        "outputId": "7ebc2cc0-8937-4c19-ae5d-84798e1db1e4"
      },
      "outputs": [
        {
          "ename": "IndexError",
          "evalue": "invalid index to scalar variable.",
          "output_type": "error",
          "traceback": [
            "\u001b[1;31m---------------------------------------------------------------------------\u001b[0m",
            "\u001b[1;31mIndexError\u001b[0m                                Traceback (most recent call last)",
            "\u001b[1;32md:\\Data Science\\IDE\\EDA_Attestation\\Dmitruk_stat_tests_eda_4.ipynb Ячейка 29\u001b[0m in \u001b[0;36m<module>\u001b[1;34m\u001b[0m\n\u001b[0;32m      <a href='vscode-notebook-cell:/d%3A/Data%20Science/IDE/EDA_Attestation/Dmitruk_stat_tests_eda_4.ipynb#ch0000021?line=0'>1</a>\u001b[0m _, p \u001b[39m=\u001b[39m normaltest(data[\u001b[39m'\u001b[39m\u001b[39mtdwell-time\u001b[39m\u001b[39m'\u001b[39m])\n\u001b[0;32m      <a href='vscode-notebook-cell:/d%3A/Data%20Science/IDE/EDA_Attestation/Dmitruk_stat_tests_eda_4.ipynb#ch0000021?line=1'>2</a>\u001b[0m \u001b[39m#normaltest возвращает двустороннюю вероятность для проверки гипотезы\u001b[39;00m\n\u001b[1;32m----> <a href='vscode-notebook-cell:/d%3A/Data%20Science/IDE/EDA_Attestation/Dmitruk_stat_tests_eda_4.ipynb#ch0000021?line=3'>4</a>\u001b[0m \u001b[39mprint\u001b[39m(\u001b[39m'\u001b[39m\u001b[39mp=\u001b[39m\u001b[39m%.3f\u001b[39;00m\u001b[39m'\u001b[39m \u001b[39m%\u001b[39m p[\u001b[39m0\u001b[39;49m])\n\u001b[0;32m      <a href='vscode-notebook-cell:/d%3A/Data%20Science/IDE/EDA_Attestation/Dmitruk_stat_tests_eda_4.ipynb#ch0000021?line=5'>6</a>\u001b[0m \u001b[39m# Интерпретация \u001b[39;00m\n\u001b[0;32m      <a href='vscode-notebook-cell:/d%3A/Data%20Science/IDE/EDA_Attestation/Dmitruk_stat_tests_eda_4.ipynb#ch0000021?line=7'>8</a>\u001b[0m \u001b[39mif\u001b[39;00m p[\u001b[39m0\u001b[39m] \u001b[39m>\u001b[39m alpha\u001b[39m/\u001b[39m\u001b[39m2\u001b[39m:\n",
            "\u001b[1;31mIndexError\u001b[0m: invalid index to scalar variable."
          ]
        }
      ],
      "source": [
        "_, p = normaltest(data['tdwell-time'])\n",
        "#normaltest возвращает двустороннюю вероятность для проверки гипотезы\n",
        "\n",
        "print('p=%.3f' % p[0])\n",
        "\n",
        "# Интерпретация \n",
        "\n",
        "if p[0] > alpha/2:\n",
        "\tprint(H0)\n",
        "else:\n",
        "\tprint(Ha)"
      ]
    },
    {
      "cell_type": "markdown",
      "metadata": {
        "id": "MFtBDbQq1-vE"
      },
      "source": [
        "# Независимый T-тест "
      ]
    },
    {
      "cell_type": "code",
      "execution_count": null,
      "metadata": {
        "id": "1028Lbas2CZ5"
      },
      "outputs": [],
      "source": [
        "from scipy.stats import ttest_ind"
      ]
    },
    {
      "cell_type": "code",
      "execution_count": null,
      "metadata": {
        "id": "52VDODJB2KGN"
      },
      "outputs": [],
      "source": [
        "H0 = 'Нет значимой разницы между диаметрами пиццы в разных пиццериях.'\n",
        "Ha = 'Есть значимая разница между диаметрами пиццы в разных пиццериях.'"
      ]
    },
    {
      "cell_type": "markdown",
      "metadata": {
        "id": "pLNOEbxd2-WH"
      },
      "source": [
        "Зависимая переменная (диаметр пиццы) является количественной. Группы происходят из разных совокупностей. Следовательно, мы используем независимый T-тест."
      ]
    },
    {
      "cell_type": "code",
      "execution_count": null,
      "metadata": {
        "colab": {
          "base_uri": "https://localhost:8080/"
        },
        "id": "RCu5a6lv2un8",
        "outputId": "d004a4c5-352c-47f0-85d4-8e2e75398873"
      },
      "outputs": [
        {
          "name": "stdout",
          "output_type": "stream",
          "text": [
            "\n",
            "*** Результаты независимого T-теста ***\n",
            "0.47 > 0.05. Мы не можем отвергнуть нулевую гипотезу. Нет значимой разницы между диаметрами пиццы в разных пиццериях.\n"
          ]
        }
      ],
      "source": [
        "def t_test(df):\n",
        "    print('\\n' + \"*** Результаты независимого T-теста ***\")\n",
        "    test_results = ttest_ind(data['Пиццерия №1'], data['Пиццерия №2'], equal_var=True)\n",
        "\n",
        "    p = round(test_results[1],2)\n",
        "\n",
        "    if p>alpha:\n",
        "        print(f\"{p} > {alpha}. Мы не можем отвергнуть нулевую гипотезу. {H0}\")\n",
        "    else:\n",
        "        print(f\"{p} <= {alpha}. Мы отвергаем нулевую гипотезу. {Ha}\")\n",
        "\n",
        "t_test(data)"
      ]
    },
    {
      "cell_type": "markdown",
      "metadata": {
        "id": "QDXPsLmx9tg7"
      },
      "source": [
        "-----"
      ]
    },
    {
      "cell_type": "markdown",
      "metadata": {
        "id": "6zjJNCzMBpYY"
      },
      "source": [
        "# Корреляция Спирмана "
      ]
    },
    {
      "cell_type": "code",
      "execution_count": null,
      "metadata": {
        "id": "etkN4gIJBsCz"
      },
      "outputs": [],
      "source": [
        "from numpy.random import rand\n",
        "from scipy.stats import spearmanr\n",
        "\n",
        "data1 = rand(1000) * 20\n",
        "data2 = data1 + (rand(1000) * 10)\n",
        "\n",
        "\n",
        "corr, p = spearmanr(data1, data2)"
      ]
    },
    {
      "cell_type": "code",
      "execution_count": null,
      "metadata": {
        "colab": {
          "base_uri": "https://localhost:8080/"
        },
        "id": "2MEO85JnCJMT",
        "outputId": "265bca24-a88f-409f-af77-2d6e90e81e9b"
      },
      "outputs": [
        {
          "name": "stdout",
          "output_type": "stream",
          "text": [
            "0.9080498000498 0.0\n"
          ]
        }
      ],
      "source": [
        "print(corr,p)"
      ]
    },
    {
      "cell_type": "code",
      "execution_count": null,
      "metadata": {
        "colab": {
          "base_uri": "https://localhost:8080/"
        },
        "id": "Q2ecofJHB8Vl",
        "outputId": "cf9baa79-a8f0-40a0-be75-aa3400512288"
      },
      "outputs": [
        {
          "name": "stdout",
          "output_type": "stream",
          "text": [
            "0.0 <= 0.05. Мы отвергаем нулевую гипотезу об отсутсвии зависимости между переменными.\n"
          ]
        }
      ],
      "source": [
        "if p>alpha:\n",
        "    print(f\"{p} > {alpha}. Мы не можем отвергнуть нулевую гипотезу об отсутсвии зависимости между переменными.\")\n",
        "else:\n",
        "    print(f\"{p} <= {alpha}. Мы отвергаем нулевую гипотезу об отсутсвии зависимости между переменными.\")"
      ]
    },
    {
      "cell_type": "markdown",
      "metadata": {
        "id": "_-iLGwp49yMV"
      },
      "source": [
        "# ANOVA тест"
      ]
    },
    {
      "cell_type": "code",
      "execution_count": null,
      "metadata": {
        "id": "u6gdyAIW9tAE"
      },
      "outputs": [],
      "source": [
        "from scipy.stats import f_oneway"
      ]
    },
    {
      "cell_type": "markdown",
      "metadata": {
        "id": "CC4QRciQ9_Sa"
      },
      "source": [
        "Однофакторный дисперсионный анализ ANOVA проверяет нулевую гипотезу о том, что две или более групп имеют одинаковое среднее значение генеральной совокупности."
      ]
    },
    {
      "cell_type": "markdown",
      "metadata": {
        "id": "vZrfJBaVDNRQ"
      },
      "source": [
        "В качестве данных возьмем информацию по размерам раковины мидий, выращенных в разных местах."
      ]
    },
    {
      "cell_type": "code",
      "execution_count": null,
      "metadata": {
        "id": "wZBbsO6891Vo"
      },
      "outputs": [],
      "source": [
        "petersburg = [0.0974, 0.1352, 0.0817, 0.1016, 0.0968, 0.1064, 0.105]\n",
        "magadan = [0.1033, 0.0915, 0.0781, 0.0685, 0.0677, 0.0697, 0.0764,\n",
        "           0.0689]\n",
        "tvarminne = [0.0703, 0.1026, 0.0956, 0.0973, 0.1039, 0.1045]"
      ]
    },
    {
      "cell_type": "code",
      "execution_count": null,
      "metadata": {
        "id": "ln2515HB9wjm"
      },
      "outputs": [],
      "source": [
        "_, p = f_oneway(petersburg, magadan, tvarminne)"
      ]
    },
    {
      "cell_type": "code",
      "execution_count": null,
      "metadata": {
        "id": "8yIxIJab-p6X"
      },
      "outputs": [],
      "source": [
        "H0 = 'Нет значимой разницы между средним размером раковины мидий в трех разных местах.'\n",
        "Ha = 'Есть значимая разница между средним размером раковины мидий в трех разных местах.'"
      ]
    },
    {
      "cell_type": "code",
      "execution_count": null,
      "metadata": {
        "colab": {
          "base_uri": "https://localhost:8080/"
        },
        "id": "b5y6tsPt-ckX",
        "outputId": "a04aebcb-de48-4959-8a0e-532a45045b4a"
      },
      "outputs": [
        {
          "name": "stdout",
          "output_type": "stream",
          "text": [
            "0.007870900547143829 <= 0.05. Мы отвергаем нулевую гипотезу. Есть значимая разница между средним размером раковины мидий в трех разных местах.\n"
          ]
        }
      ],
      "source": [
        "if p>alpha:\n",
        "  print(f\"{p} > {alpha}. Мы не можем отвергнуть нулевую гипотезу. {H0}\")\n",
        "else:\n",
        "  print(f\"{p} <= {alpha}. Мы отвергаем нулевую гипотезу. {Ha}\")"
      ]
    },
    {
      "cell_type": "markdown",
      "metadata": {
        "id": "EMcz-XTVC3lJ"
      },
      "source": [
        "_____"
      ]
    },
    {
      "cell_type": "markdown",
      "metadata": {
        "id": "6D6X-qaiC41B"
      },
      "source": [
        "# Домашнее задание"
      ]
    },
    {
      "cell_type": "markdown",
      "metadata": {
        "id": "9LRTnw71DHUf"
      },
      "source": [
        "Используя информацию по мидиям Петербурга и Магадана, которые представлены в виде двух массивов petersburg и magadan в разделе ANOVA тест, проверьте данные на нормальность и на наличие корреляции. Для этого объедините 2 массива в DataFrame. Обоснуйте выбор теста на корреляцию. Сделайте вывод по гипотезе.\n",
        " \n",
        " \n",
        "Также ответьте на вопрос:\n",
        "Какова разница в среднем размере мидии в зависимости от города-производителя. Обоснуйте выбор теста. Сделайте вывод по гипотезе.\n"
      ]
    },
    {
      "cell_type": "code",
      "execution_count": null,
      "metadata": {
        "colab": {
          "base_uri": "https://localhost:8080/",
          "height": 300
        },
        "id": "0JJ8QTcC7Q8x",
        "outputId": "fc3ec645-91ac-4c31-ca10-c2ffc47deb94"
      },
      "outputs": [
        {
          "data": {
            "text/html": [
              "\n",
              "  <div id=\"df-d5255a8e-8bd1-4167-8d87-3f36e4bf1975\">\n",
              "    <div class=\"colab-df-container\">\n",
              "      <div>\n",
              "<style scoped>\n",
              "    .dataframe tbody tr th:only-of-type {\n",
              "        vertical-align: middle;\n",
              "    }\n",
              "\n",
              "    .dataframe tbody tr th {\n",
              "        vertical-align: top;\n",
              "    }\n",
              "\n",
              "    .dataframe thead th {\n",
              "        text-align: right;\n",
              "    }\n",
              "</style>\n",
              "<table border=\"1\" class=\"dataframe\">\n",
              "  <thead>\n",
              "    <tr style=\"text-align: right;\">\n",
              "      <th></th>\n",
              "      <th>Petersburg</th>\n",
              "      <th>Magadan</th>\n",
              "    </tr>\n",
              "  </thead>\n",
              "  <tbody>\n",
              "    <tr>\n",
              "      <th>0</th>\n",
              "      <td>0.0974</td>\n",
              "      <td>0.1033</td>\n",
              "    </tr>\n",
              "    <tr>\n",
              "      <th>1</th>\n",
              "      <td>0.1352</td>\n",
              "      <td>0.0915</td>\n",
              "    </tr>\n",
              "    <tr>\n",
              "      <th>2</th>\n",
              "      <td>0.0817</td>\n",
              "      <td>0.0781</td>\n",
              "    </tr>\n",
              "    <tr>\n",
              "      <th>3</th>\n",
              "      <td>0.1016</td>\n",
              "      <td>0.0685</td>\n",
              "    </tr>\n",
              "    <tr>\n",
              "      <th>4</th>\n",
              "      <td>0.0968</td>\n",
              "      <td>0.0677</td>\n",
              "    </tr>\n",
              "    <tr>\n",
              "      <th>5</th>\n",
              "      <td>0.1064</td>\n",
              "      <td>0.0697</td>\n",
              "    </tr>\n",
              "    <tr>\n",
              "      <th>6</th>\n",
              "      <td>0.1050</td>\n",
              "      <td>0.0764</td>\n",
              "    </tr>\n",
              "    <tr>\n",
              "      <th>7</th>\n",
              "      <td>0.1016</td>\n",
              "      <td>0.0689</td>\n",
              "    </tr>\n",
              "  </tbody>\n",
              "</table>\n",
              "</div>\n",
              "      <button class=\"colab-df-convert\" onclick=\"convertToInteractive('df-d5255a8e-8bd1-4167-8d87-3f36e4bf1975')\"\n",
              "              title=\"Convert this dataframe to an interactive table.\"\n",
              "              style=\"display:none;\">\n",
              "        \n",
              "  <svg xmlns=\"http://www.w3.org/2000/svg\" height=\"24px\"viewBox=\"0 0 24 24\"\n",
              "       width=\"24px\">\n",
              "    <path d=\"M0 0h24v24H0V0z\" fill=\"none\"/>\n",
              "    <path d=\"M18.56 5.44l.94 2.06.94-2.06 2.06-.94-2.06-.94-.94-2.06-.94 2.06-2.06.94zm-11 1L8.5 8.5l.94-2.06 2.06-.94-2.06-.94L8.5 2.5l-.94 2.06-2.06.94zm10 10l.94 2.06.94-2.06 2.06-.94-2.06-.94-.94-2.06-.94 2.06-2.06.94z\"/><path d=\"M17.41 7.96l-1.37-1.37c-.4-.4-.92-.59-1.43-.59-.52 0-1.04.2-1.43.59L10.3 9.45l-7.72 7.72c-.78.78-.78 2.05 0 2.83L4 21.41c.39.39.9.59 1.41.59.51 0 1.02-.2 1.41-.59l7.78-7.78 2.81-2.81c.8-.78.8-2.07 0-2.86zM5.41 20L4 18.59l7.72-7.72 1.47 1.35L5.41 20z\"/>\n",
              "  </svg>\n",
              "      </button>\n",
              "      \n",
              "  <style>\n",
              "    .colab-df-container {\n",
              "      display:flex;\n",
              "      flex-wrap:wrap;\n",
              "      gap: 12px;\n",
              "    }\n",
              "\n",
              "    .colab-df-convert {\n",
              "      background-color: #E8F0FE;\n",
              "      border: none;\n",
              "      border-radius: 50%;\n",
              "      cursor: pointer;\n",
              "      display: none;\n",
              "      fill: #1967D2;\n",
              "      height: 32px;\n",
              "      padding: 0 0 0 0;\n",
              "      width: 32px;\n",
              "    }\n",
              "\n",
              "    .colab-df-convert:hover {\n",
              "      background-color: #E2EBFA;\n",
              "      box-shadow: 0px 1px 2px rgba(60, 64, 67, 0.3), 0px 1px 3px 1px rgba(60, 64, 67, 0.15);\n",
              "      fill: #174EA6;\n",
              "    }\n",
              "\n",
              "    [theme=dark] .colab-df-convert {\n",
              "      background-color: #3B4455;\n",
              "      fill: #D2E3FC;\n",
              "    }\n",
              "\n",
              "    [theme=dark] .colab-df-convert:hover {\n",
              "      background-color: #434B5C;\n",
              "      box-shadow: 0px 1px 3px 1px rgba(0, 0, 0, 0.15);\n",
              "      filter: drop-shadow(0px 1px 2px rgba(0, 0, 0, 0.3));\n",
              "      fill: #FFFFFF;\n",
              "    }\n",
              "  </style>\n",
              "\n",
              "      <script>\n",
              "        const buttonEl =\n",
              "          document.querySelector('#df-d5255a8e-8bd1-4167-8d87-3f36e4bf1975 button.colab-df-convert');\n",
              "        buttonEl.style.display =\n",
              "          google.colab.kernel.accessAllowed ? 'block' : 'none';\n",
              "\n",
              "        async function convertToInteractive(key) {\n",
              "          const element = document.querySelector('#df-d5255a8e-8bd1-4167-8d87-3f36e4bf1975');\n",
              "          const dataTable =\n",
              "            await google.colab.kernel.invokeFunction('convertToInteractive',\n",
              "                                                     [key], {});\n",
              "          if (!dataTable) return;\n",
              "\n",
              "          const docLinkHtml = 'Like what you see? Visit the ' +\n",
              "            '<a target=\"_blank\" href=https://colab.research.google.com/notebooks/data_table.ipynb>data table notebook</a>'\n",
              "            + ' to learn more about interactive tables.';\n",
              "          element.innerHTML = '';\n",
              "          dataTable['output_type'] = 'display_data';\n",
              "          await google.colab.output.renderOutput(dataTable, element);\n",
              "          const docLink = document.createElement('div');\n",
              "          docLink.innerHTML = docLinkHtml;\n",
              "          element.appendChild(docLink);\n",
              "        }\n",
              "      </script>\n",
              "    </div>\n",
              "  </div>\n",
              "  "
            ],
            "text/plain": [
              "   Petersburg  Magadan\n",
              "0      0.0974   0.1033\n",
              "1      0.1352   0.0915\n",
              "2      0.0817   0.0781\n",
              "3      0.1016   0.0685\n",
              "4      0.0968   0.0677\n",
              "5      0.1064   0.0697\n",
              "6      0.1050   0.0764\n",
              "7      0.1016   0.0689"
            ]
          },
          "metadata": {},
          "output_type": "display_data"
        }
      ],
      "source": [
        "mussels_df = pd.concat([pd.DataFrame({'Petersburg': petersburg}), pd.DataFrame({'Magadan':magadan})], axis=1)\n",
        "mussels_df['Petersburg'] = mussels_df['Petersburg'].fillna(mussels_df['Petersburg'].median())\n",
        "display(mussels_df)"
      ]
    },
    {
      "cell_type": "code",
      "execution_count": null,
      "metadata": {
        "id": "Wfu8ly9FGNG5"
      },
      "outputs": [],
      "source": [
        "H0 = 'Данные распределены нормально'\n",
        "Ha = 'Данные не распределены нормально (мы отвергаем H0)'"
      ]
    },
    {
      "cell_type": "code",
      "execution_count": null,
      "metadata": {
        "id": "HNiRLVzHGQ4B"
      },
      "outputs": [],
      "source": [
        "alpha = 0.05"
      ]
    },
    {
      "cell_type": "code",
      "execution_count": null,
      "metadata": {
        "colab": {
          "base_uri": "https://localhost:8080/"
        },
        "id": "XTBrNwFoIHqT",
        "outputId": "479b3ad4-21aa-4295-8da1-7c7fb78289f7"
      },
      "outputs": [
        {
          "name": "stdout",
          "output_type": "stream",
          "text": [
            "p=0.106\n",
            "Данные распределены нормально\n"
          ]
        }
      ],
      "source": [
        "# Тест на нормальность Шапиро-Уилка для данных Петербурга\n",
        "_, p = shapiro(mussels_df['Petersburg'])\n",
        "print('p=%.3f' % p)\n",
        "\n",
        "# Интерпретация \n",
        "\n",
        "if p > alpha:\n",
        "\tprint(H0)\n",
        "else:\n",
        "\tprint(Ha)"
      ]
    },
    {
      "cell_type": "code",
      "execution_count": null,
      "metadata": {
        "colab": {
          "base_uri": "https://localhost:8080/"
        },
        "id": "fUqKQ7ZsOmGU",
        "outputId": "e16636c3-a5dc-4596-f21c-4d884777146a"
      },
      "outputs": [
        {
          "name": "stdout",
          "output_type": "stream",
          "text": [
            "p=0.036\n",
            "Данные не распределены нормально (мы отвергаем H0)\n"
          ]
        }
      ],
      "source": [
        "# Тест на нормальность Шапиро-Уилка для данных Магадана\n",
        "_, p = shapiro(mussels_df['Magadan'])\n",
        "print('p=%.3f' % p)\n",
        "\n",
        "# Интерпретация \n",
        "\n",
        "if p > alpha:\n",
        "\tprint(H0)\n",
        "else:\n",
        "\tprint(Ha)"
      ]
    },
    {
      "cell_type": "code",
      "execution_count": 113,
      "metadata": {
        "colab": {
          "base_uri": "https://localhost:8080/"
        },
        "id": "esqNdMNWJxJ1",
        "outputId": "daa702d1-b335-4557-c6b1-3c7f05c52509"
      },
      "outputs": [
        {
          "name": "stdout",
          "output_type": "stream",
          "text": [
            "0.15569141404872366 0.7127617079991629\n"
          ]
        }
      ],
      "source": [
        "# Поскольку данные по Магадану распределены не нормально, необходимо применять корреляцию Спирмена.\n",
        "\n",
        "corr, p = spearmanr(mussels_df['Petersburg'], mussels_df['Magadan'])\n",
        "print(corr,p)"
      ]
    },
    {
      "cell_type": "code",
      "execution_count": 114,
      "metadata": {
        "colab": {
          "base_uri": "https://localhost:8080/"
        },
        "id": "Kc0hhOVTUBbv",
        "outputId": "29fa9bb9-d544-4c88-c9e1-03fc24f2eae5"
      },
      "outputs": [
        {
          "name": "stdout",
          "output_type": "stream",
          "text": [
            "0.7127617079991629 > 0.05. Мы не можем отвергнуть нулевую гипотезу об отсутсвии зависимости между переменными.\n"
          ]
        }
      ],
      "source": [
        "if p>alpha:\n",
        "    print(f\"{p} > {alpha}. Мы не можем отвергнуть нулевую гипотезу об отсутсвии зависимости между переменными.\")\n",
        "else:\n",
        "    print(f\"{p} <= {alpha}. Мы отвергаем нулевую гипотезу об отсутсвии зависимости между переменными.\")"
      ]
    },
    {
      "cell_type": "code",
      "execution_count": null,
      "metadata": {
        "id": "jpsbz8p4Spaz"
      },
      "outputs": [],
      "source": [
        "# Между признаками имеется очень слабая связь, или связь отсутствует - 0.15. Посколько p=0.71>0,05, то мы не можем отвергнуть нулевую гипотезу об отсутствии зависимости между переменными."
      ]
    },
    {
      "cell_type": "code",
      "execution_count": null,
      "metadata": {
        "id": "zymfWXR4Up9_"
      },
      "outputs": [],
      "source": [
        "# Поскольку данные по Магадану распределены не нормально, необходимо воспользоваться непараметрическим тестом. Поскольку зависимая переменная количественная, а группы происходят из разных совокупностей, необходимо воспользоваться тестом \"Суммы рангов Уилкоксона\"."
      ]
    },
    {
      "cell_type": "code",
      "execution_count": 115,
      "metadata": {
        "id": "FdtVKIh-Ko9-"
      },
      "outputs": [],
      "source": [
        "from scipy.stats import wilcoxon"
      ]
    },
    {
      "cell_type": "code",
      "execution_count": 118,
      "metadata": {
        "colab": {
          "base_uri": "https://localhost:8080/"
        },
        "id": "g9xeIIgoWVSZ",
        "outputId": "bcb93348-a689-4624-fb1b-6ec8dd12a8c6"
      },
      "outputs": [
        {
          "name": "stderr",
          "output_type": "stream",
          "text": [
            "/usr/local/lib/python3.7/dist-packages/scipy/stats/morestats.py:2879: UserWarning: Sample size too small for normal approximation.\n",
            "  warnings.warn(\"Sample size too small for normal approximation.\")\n"
          ]
        }
      ],
      "source": [
        "_, p = wilcoxon(mussels_df['Petersburg'], mussels_df['Magadan'])"
      ]
    },
    {
      "cell_type": "code",
      "execution_count": 119,
      "metadata": {
        "id": "paKeOu4rW_L2"
      },
      "outputs": [],
      "source": [
        "H0 = 'Нет значимой разницы между средним размером раковины мидий в двух разных местах.'\n",
        "Ha = 'Есть значимая разница между средним размером раковины мидий в двух разных местах.'"
      ]
    },
    {
      "cell_type": "code",
      "execution_count": 120,
      "metadata": {
        "colab": {
          "base_uri": "https://localhost:8080/"
        },
        "id": "sg-AHX9lXD3c",
        "outputId": "adc4a016-6a1f-44c0-b3e4-5fcf15fb10b3"
      },
      "outputs": [
        {
          "name": "stdout",
          "output_type": "stream",
          "text": [
            "0.02506184434388362 <= 0.05. Мы отвергаем нулевую гипотезу. Есть значимая разница между средним размером раковины мидий в двух разных местах.\n"
          ]
        }
      ],
      "source": [
        "if p>alpha:\n",
        "  print(f\"{p} > {alpha}. Мы не можем отвергнуть нулевую гипотезу. {H0}\")\n",
        "else:\n",
        "  print(f\"{p} <= {alpha}. Мы отвергаем нулевую гипотезу. {Ha}\")"
      ]
    },
    {
      "cell_type": "code",
      "execution_count": 124,
      "metadata": {
        "colab": {
          "base_uri": "https://localhost:8080/"
        },
        "id": "MDatWfa8XeXd",
        "outputId": "8d4e62da-bc2e-4469-834b-6605e86c22b6"
      },
      "outputs": [
        {
          "name": "stdout",
          "output_type": "stream",
          "text": [
            "Разница в среднем размере мидии в зависимости от города-производителя составляет:  0.025\n"
          ]
        }
      ],
      "source": [
        "diff = round(mussels_df['Petersburg'].mean() - mussels_df['Magadan'].mean(), 3)\n",
        "print('Разница в среднем размере мидии в зависимости от города-производителя составляет: ', diff)"
      ]
    },
    {
      "cell_type": "markdown",
      "metadata": {
        "id": "QStt6SskWs6T"
      },
      "source": [
        "# Бонус"
      ]
    },
    {
      "cell_type": "markdown",
      "metadata": {
        "id": "mIS-m13WW66R"
      },
      "source": [
        "Скачаем датасет, содержащий информацию по давлению 120 человек.\n",
        "\n"
      ]
    },
    {
      "cell_type": "code",
      "execution_count": null,
      "metadata": {
        "colab": {
          "base_uri": "https://localhost:8080/"
        },
        "id": "s97bH1NtYJW6",
        "outputId": "01bf85f2-300f-4611-c71d-c9077474b19c"
      },
      "outputs": [
        {
          "name": "stdout",
          "output_type": "stream",
          "text": [
            "--2022-07-04 21:20:43--  https://raw.githubusercontent.com/yug95/MachineLearning/master/Hypothesis%20testing/blood_pressure.csv\n",
            "Resolving raw.githubusercontent.com (raw.githubusercontent.com)... 185.199.108.133, 185.199.111.133, 185.199.109.133, ...\n",
            "Connecting to raw.githubusercontent.com (raw.githubusercontent.com)|185.199.108.133|:443... connected.\n",
            "HTTP request sent, awaiting response... 200 OK\n",
            "Length: 2851 (2.8K) [text/plain]\n",
            "Saving to: ‘blood_pressure.csv’\n",
            "\n",
            "blood_pressure.csv  100%[===================>]   2.78K  --.-KB/s    in 0s      \n",
            "\n",
            "2022-07-04 21:20:44 (34.6 MB/s) - ‘blood_pressure.csv’ saved [2851/2851]\n",
            "\n"
          ]
        }
      ],
      "source": [
        "!wget https://raw.githubusercontent.com/yug95/MachineLearning/master/Hypothesis%20testing/blood_pressure.csv"
      ]
    },
    {
      "cell_type": "code",
      "execution_count": null,
      "metadata": {
        "id": "ulyWmtYJYlVA"
      },
      "outputs": [],
      "source": [
        "data = pd.read_csv('blood_pressure.csv')"
      ]
    },
    {
      "cell_type": "code",
      "execution_count": null,
      "metadata": {
        "colab": {
          "base_uri": "https://localhost:8080/"
        },
        "id": "JqNIeUoGYx-y",
        "outputId": "56b21162-ac28-4b4b-82e4-0918db5358e4"
      },
      "outputs": [
        {
          "name": "stdout",
          "output_type": "stream",
          "text": [
            "Размер выборки:  (120, 5)\n"
          ]
        }
      ],
      "source": [
        "print('Размер выборки: ', data.shape)"
      ]
    },
    {
      "cell_type": "code",
      "execution_count": null,
      "metadata": {
        "colab": {
          "base_uri": "https://localhost:8080/",
          "height": 206
        },
        "id": "BiPeJeI3Y4aN",
        "outputId": "2e278d5e-8208-48c6-a80f-f841d7c0d0a3"
      },
      "outputs": [
        {
          "data": {
            "text/html": [
              "\n",
              "  <div id=\"df-d81c6134-68cb-4109-ad74-bbf422fb43d3\">\n",
              "    <div class=\"colab-df-container\">\n",
              "      <div>\n",
              "<style scoped>\n",
              "    .dataframe tbody tr th:only-of-type {\n",
              "        vertical-align: middle;\n",
              "    }\n",
              "\n",
              "    .dataframe tbody tr th {\n",
              "        vertical-align: top;\n",
              "    }\n",
              "\n",
              "    .dataframe thead th {\n",
              "        text-align: right;\n",
              "    }\n",
              "</style>\n",
              "<table border=\"1\" class=\"dataframe\">\n",
              "  <thead>\n",
              "    <tr style=\"text-align: right;\">\n",
              "      <th></th>\n",
              "      <th>patient</th>\n",
              "      <th>sex</th>\n",
              "      <th>agegrp</th>\n",
              "      <th>bp_before</th>\n",
              "      <th>bp_after</th>\n",
              "    </tr>\n",
              "  </thead>\n",
              "  <tbody>\n",
              "    <tr>\n",
              "      <th>0</th>\n",
              "      <td>1</td>\n",
              "      <td>Male</td>\n",
              "      <td>30-45</td>\n",
              "      <td>143</td>\n",
              "      <td>153</td>\n",
              "    </tr>\n",
              "    <tr>\n",
              "      <th>1</th>\n",
              "      <td>2</td>\n",
              "      <td>Male</td>\n",
              "      <td>30-45</td>\n",
              "      <td>163</td>\n",
              "      <td>170</td>\n",
              "    </tr>\n",
              "    <tr>\n",
              "      <th>2</th>\n",
              "      <td>3</td>\n",
              "      <td>Male</td>\n",
              "      <td>30-45</td>\n",
              "      <td>153</td>\n",
              "      <td>168</td>\n",
              "    </tr>\n",
              "    <tr>\n",
              "      <th>3</th>\n",
              "      <td>4</td>\n",
              "      <td>Male</td>\n",
              "      <td>30-45</td>\n",
              "      <td>153</td>\n",
              "      <td>142</td>\n",
              "    </tr>\n",
              "    <tr>\n",
              "      <th>4</th>\n",
              "      <td>5</td>\n",
              "      <td>Male</td>\n",
              "      <td>30-45</td>\n",
              "      <td>146</td>\n",
              "      <td>141</td>\n",
              "    </tr>\n",
              "  </tbody>\n",
              "</table>\n",
              "</div>\n",
              "      <button class=\"colab-df-convert\" onclick=\"convertToInteractive('df-d81c6134-68cb-4109-ad74-bbf422fb43d3')\"\n",
              "              title=\"Convert this dataframe to an interactive table.\"\n",
              "              style=\"display:none;\">\n",
              "        \n",
              "  <svg xmlns=\"http://www.w3.org/2000/svg\" height=\"24px\"viewBox=\"0 0 24 24\"\n",
              "       width=\"24px\">\n",
              "    <path d=\"M0 0h24v24H0V0z\" fill=\"none\"/>\n",
              "    <path d=\"M18.56 5.44l.94 2.06.94-2.06 2.06-.94-2.06-.94-.94-2.06-.94 2.06-2.06.94zm-11 1L8.5 8.5l.94-2.06 2.06-.94-2.06-.94L8.5 2.5l-.94 2.06-2.06.94zm10 10l.94 2.06.94-2.06 2.06-.94-2.06-.94-.94-2.06-.94 2.06-2.06.94z\"/><path d=\"M17.41 7.96l-1.37-1.37c-.4-.4-.92-.59-1.43-.59-.52 0-1.04.2-1.43.59L10.3 9.45l-7.72 7.72c-.78.78-.78 2.05 0 2.83L4 21.41c.39.39.9.59 1.41.59.51 0 1.02-.2 1.41-.59l7.78-7.78 2.81-2.81c.8-.78.8-2.07 0-2.86zM5.41 20L4 18.59l7.72-7.72 1.47 1.35L5.41 20z\"/>\n",
              "  </svg>\n",
              "      </button>\n",
              "      \n",
              "  <style>\n",
              "    .colab-df-container {\n",
              "      display:flex;\n",
              "      flex-wrap:wrap;\n",
              "      gap: 12px;\n",
              "    }\n",
              "\n",
              "    .colab-df-convert {\n",
              "      background-color: #E8F0FE;\n",
              "      border: none;\n",
              "      border-radius: 50%;\n",
              "      cursor: pointer;\n",
              "      display: none;\n",
              "      fill: #1967D2;\n",
              "      height: 32px;\n",
              "      padding: 0 0 0 0;\n",
              "      width: 32px;\n",
              "    }\n",
              "\n",
              "    .colab-df-convert:hover {\n",
              "      background-color: #E2EBFA;\n",
              "      box-shadow: 0px 1px 2px rgba(60, 64, 67, 0.3), 0px 1px 3px 1px rgba(60, 64, 67, 0.15);\n",
              "      fill: #174EA6;\n",
              "    }\n",
              "\n",
              "    [theme=dark] .colab-df-convert {\n",
              "      background-color: #3B4455;\n",
              "      fill: #D2E3FC;\n",
              "    }\n",
              "\n",
              "    [theme=dark] .colab-df-convert:hover {\n",
              "      background-color: #434B5C;\n",
              "      box-shadow: 0px 1px 3px 1px rgba(0, 0, 0, 0.15);\n",
              "      filter: drop-shadow(0px 1px 2px rgba(0, 0, 0, 0.3));\n",
              "      fill: #FFFFFF;\n",
              "    }\n",
              "  </style>\n",
              "\n",
              "      <script>\n",
              "        const buttonEl =\n",
              "          document.querySelector('#df-d81c6134-68cb-4109-ad74-bbf422fb43d3 button.colab-df-convert');\n",
              "        buttonEl.style.display =\n",
              "          google.colab.kernel.accessAllowed ? 'block' : 'none';\n",
              "\n",
              "        async function convertToInteractive(key) {\n",
              "          const element = document.querySelector('#df-d81c6134-68cb-4109-ad74-bbf422fb43d3');\n",
              "          const dataTable =\n",
              "            await google.colab.kernel.invokeFunction('convertToInteractive',\n",
              "                                                     [key], {});\n",
              "          if (!dataTable) return;\n",
              "\n",
              "          const docLinkHtml = 'Like what you see? Visit the ' +\n",
              "            '<a target=\"_blank\" href=https://colab.research.google.com/notebooks/data_table.ipynb>data table notebook</a>'\n",
              "            + ' to learn more about interactive tables.';\n",
              "          element.innerHTML = '';\n",
              "          dataTable['output_type'] = 'display_data';\n",
              "          await google.colab.output.renderOutput(dataTable, element);\n",
              "          const docLink = document.createElement('div');\n",
              "          docLink.innerHTML = docLinkHtml;\n",
              "          element.appendChild(docLink);\n",
              "        }\n",
              "      </script>\n",
              "    </div>\n",
              "  </div>\n",
              "  "
            ],
            "text/plain": [
              "   patient   sex agegrp  bp_before  bp_after\n",
              "0        1  Male  30-45        143       153\n",
              "1        2  Male  30-45        163       170\n",
              "2        3  Male  30-45        153       168\n",
              "3        4  Male  30-45        153       142\n",
              "4        5  Male  30-45        146       141"
            ]
          },
          "execution_count": 40,
          "metadata": {},
          "output_type": "execute_result"
        }
      ],
      "source": [
        "data.head()"
      ]
    },
    {
      "cell_type": "markdown",
      "metadata": {
        "id": "4DgsNBXIF7AY"
      },
      "source": [
        "## Z-тест"
      ]
    },
    {
      "cell_type": "markdown",
      "metadata": {
        "id": "-mAQZnC_YZTO"
      },
      "source": [
        "Проведем Z-тест для проверки двух независимых групп данных на равенство средних значений выборок."
      ]
    },
    {
      "cell_type": "code",
      "execution_count": 54,
      "metadata": {
        "colab": {
          "base_uri": "https://localhost:8080/"
        },
        "id": "U7yWgrnGC7QD",
        "outputId": "f0555df7-f012-4913-ed98-b3d53e2d69c8"
      },
      "outputs": [],
      "source": [
        "from statsmodels.stats import weightstats"
      ]
    },
    {
      "cell_type": "code",
      "execution_count": 56,
      "metadata": {
        "colab": {
          "base_uri": "https://localhost:8080/"
        },
        "id": "qnraDYOpBGps",
        "outputId": "96fbe4ca-bf17-4835-d915-b9defb699bb3"
      },
      "outputs": [
        {
          "name": "stdout",
          "output_type": "stream",
          "text": [
            "0.8136645546620853\n",
            "Мы не можем отвергнуть нулевую гипотезу об отсутсвии различий между данными.\n"
          ]
        }
      ],
      "source": [
        "_ ,p = weightstats.ztest(data[data['site'] == 0]['tdwell-time'], x2=data[data['site'] == 1]['tdwell-time'], value=0,alternative='two-sided')\n",
        "print(float(p))\n",
        "\n",
        "\n",
        "if p < 0.05:\n",
        "    print(\"Мы отвергаем нулевую гипотезу об отсутсвии различий между данными.\")\n",
        "else:\n",
        "    print(\"Мы не можем отвергнуть нулевую гипотезу об отсутсвии различий между данными.\")"
      ]
    },
    {
      "cell_type": "markdown",
      "metadata": {
        "id": "WdtE6WckGKCB"
      },
      "source": [
        "## Z-тест на пропорцию"
      ]
    },
    {
      "cell_type": "markdown",
      "metadata": {
        "id": "IUIgCw7YGPrj"
      },
      "source": [
        "Z-критерий одной пропорции используется для сравнения наблюдаемой пропорции с теоретической.\n",
        "\n",
        "В этом тесте используются следующие нулевые гипотезы:\n",
        "\n",
        "$H_0: p = p_0$ (доля мужчин, предоставивших данные о своем давлении, равна гипотетической пропорции $p_0$)\n",
        "\n",
        "Альтернативная гипотеза может быть двусторонней, левосторонней или правосторонней:\n",
        "\n",
        "$H_1 (двусторонний): p ≠ p_0$ (доля мужчин не равна некоторому гипотетическому значению $p_0$)\n",
        "$H_1 (левосторонний): p < p_0$ (доля мужчин меньше некоторого гипотетического значения $p_0$)\n",
        "$H_1 (правосторонний): p > p_0$ (доля мужчин больше некоторого гипотетического значения $p_0$)"
      ]
    },
    {
      "cell_type": "markdown",
      "metadata": {
        "id": "j0o4Q9AkHtiV"
      },
      "source": [
        "Предположим, что доля мужчин в нашем датачете равна 40%.\n",
        "\n",
        "$p_0$: гипотетическая доля мужчин = 0.40\n",
        "\n",
        "$x$: число мужчин в выборке мужчин: `len(data[data.sex == 'Male'])`\n",
        "\n",
        "$n$: размер выборки = `len(data)`\n",
        "\n",
        "Покажем, как использовать функцию `proportions_ztest` для выполнения  **z-теста**:"
      ]
    },
    {
      "cell_type": "code",
      "execution_count": null,
      "metadata": {
        "colab": {
          "base_uri": "https://localhost:8080/"
        },
        "id": "njuMmGIMJK2J",
        "outputId": "547ce604-cedc-4993-90ff-e657e986b0d6"
      },
      "outputs": [
        {
          "name": "stdout",
          "output_type": "stream",
          "text": [
            "120 60\n"
          ]
        }
      ],
      "source": [
        "p_0 = 0.4\n",
        "n = len(data)\n",
        "x = len(data[data.sex == 'Male'])\n",
        "\n",
        "print(n, x)"
      ]
    },
    {
      "cell_type": "code",
      "execution_count": null,
      "metadata": {
        "id": "P9dLX0GFHisW"
      },
      "outputs": [],
      "source": [
        "from statsmodels.stats.proportion import proportions_ztest\n",
        "\n",
        "#perform one proportion z-test\n",
        "_, p = proportions_ztest(count=x, nobs=n, value=p_0)"
      ]
    },
    {
      "cell_type": "code",
      "execution_count": null,
      "metadata": {
        "colab": {
          "base_uri": "https://localhost:8080/"
        },
        "id": "BAYRIF7rJY_C",
        "outputId": "b6d935ec-5b09-4c44-b7f8-7283f80e0263"
      },
      "outputs": [
        {
          "name": "stdout",
          "output_type": "stream",
          "text": [
            "Мы отвергаем нулевую гипотезу о том, что доля мужчин, предоставивших данные о своем давлении, равна 40%.\n"
          ]
        }
      ],
      "source": [
        "if p < 0.05:\n",
        "    print(\"Мы отвергаем нулевую гипотезу о том, что доля мужчин, предоставивших данные о своем давлении, равна 40%.\")\n",
        "else:\n",
        "    print(\"Мы не можем отвергнуть нулевую гипотезу.\")"
      ]
    }
  ],
  "metadata": {
    "colab": {
      "collapsed_sections": [],
      "name": "stat-tests-eda-4.ipynb",
      "provenance": []
    },
    "kernelspec": {
      "display_name": "Python 3.9.10 64-bit",
      "language": "python",
      "name": "python3"
    },
    "language_info": {
      "codemirror_mode": {
        "name": "ipython",
        "version": 3
      },
      "file_extension": ".py",
      "mimetype": "text/x-python",
      "name": "python",
      "nbconvert_exporter": "python",
      "pygments_lexer": "ipython3",
      "version": "3.9.10"
    },
    "vscode": {
      "interpreter": {
        "hash": "611f72dce2680478b63cff690f1b31c93fe70ec400b4c79237c69a5b15d56895"
      }
    }
  },
  "nbformat": 4,
  "nbformat_minor": 0
}
