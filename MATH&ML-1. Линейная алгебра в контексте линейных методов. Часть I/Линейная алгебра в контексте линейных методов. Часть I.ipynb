{
 "cells": [
  {
   "cell_type": "code",
   "execution_count": 1,
   "metadata": {},
   "outputs": [],
   "source": [
    "import pandas as pd\n",
    "\n",
    "Hut_Paradise_DF = pd.DataFrame({\n",
    "    '1.Rent': [65, 70, 120, 35, 40, 50, 100, 90, 85], \n",
    "    '2.Area': [50, 52, 80, 33, 33, 44, 80, 65, 65], \n",
    "    '3.Rooms':[3, 2, 1, 1, 1, 2, 4, 3, 2],\n",
    "    '4.Floor':[5, 12, 10, 3, 6, 13, 8, 21, 5], \n",
    "    '5.Demo two weeks':[8, 4, 5, 10, 20, 12, 5, 1, 10], \n",
    "    '6.Liv.Area': [37, 40, 65, 20, 16, 35, 60, 50, 40]\n",
    "})"
   ]
  },
  {
   "cell_type": "code",
   "execution_count": 2,
   "metadata": {},
   "outputs": [],
   "source": [
    "Hut_Paradise_values = Hut_Paradise_DF.values"
   ]
  },
  {
   "cell_type": "code",
   "execution_count": 3,
   "metadata": {},
   "outputs": [
    {
     "data": {
      "text/plain": [
       "array([40, 33,  1,  6, 20, 16], dtype=int64)"
      ]
     },
     "execution_count": 3,
     "metadata": {},
     "output_type": "execute_result"
    }
   ],
   "source": [
    "Hut_Paradise_values[4]"
   ]
  },
  {
   "cell_type": "code",
   "execution_count": 4,
   "metadata": {},
   "outputs": [
    {
     "data": {
      "text/plain": [
       "array([ 5, 12, 10,  3,  6, 13,  8, 21,  5], dtype=int64)"
      ]
     },
     "execution_count": 4,
     "metadata": {},
     "output_type": "execute_result"
    }
   ],
   "source": [
    "Hut_Paradise_values[:, 3]"
   ]
  },
  {
   "cell_type": "code",
   "execution_count": 8,
   "metadata": {},
   "outputs": [
    {
     "data": {
      "text/plain": [
       "array([13, 12, 15, 13, 17,  9, 20, 15, 25], dtype=int64)"
      ]
     },
     "execution_count": 8,
     "metadata": {},
     "output_type": "execute_result"
    }
   ],
   "source": [
    "Hut_Paradise_values[:, 1] - Hut_Paradise_values[:, 5]"
   ]
  },
  {
   "cell_type": "code",
   "execution_count": 9,
   "metadata": {},
   "outputs": [],
   "source": [
    "import numpy as np\n",
    "\n",
    "Husband_Income = np.array([100,220,140])\n",
    "Wife_Income = np.array([150,200,130])\n",
    "Mother_In_Law_Income = np.array([90,80,100])\n",
    "\n",
    "Husband_Consumption = np.array([50,50,60])\n",
    "Wife_Consumption = np.array([100,80,140])\n",
    "Mother_In_Law_Consumption = np.array([100,20,140])"
   ]
  },
  {
   "cell_type": "code",
   "execution_count": null,
   "metadata": {},
   "outputs": [],
   "source": []
  }
 ],
 "metadata": {
  "kernelspec": {
   "display_name": "Python 3.9.10 64-bit",
   "language": "python",
   "name": "python3"
  },
  "language_info": {
   "codemirror_mode": {
    "name": "ipython",
    "version": 3
   },
   "file_extension": ".py",
   "mimetype": "text/x-python",
   "name": "python",
   "nbconvert_exporter": "python",
   "pygments_lexer": "ipython3",
   "version": "3.9.10"
  },
  "orig_nbformat": 4,
  "vscode": {
   "interpreter": {
    "hash": "611f72dce2680478b63cff690f1b31c93fe70ec400b4c79237c69a5b15d56895"
   }
  }
 },
 "nbformat": 4,
 "nbformat_minor": 2
}
