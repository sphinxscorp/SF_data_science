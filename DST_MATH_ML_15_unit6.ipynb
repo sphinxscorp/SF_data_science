{
  "cells": [
    {
      "cell_type": "markdown",
      "metadata": {
        "id": "view-in-github",
        "colab_type": "text"
      },
      "source": [
        "<a href=\"https://colab.research.google.com/github/sphinxscorp/SF_data_science/blob/main/DST_MATH_ML_15_unit6.ipynb\" target=\"_parent\"><img src=\"https://colab.research.google.com/assets/colab-badge.svg\" alt=\"Open In Colab\"/></a>"
      ]
    },
    {
      "cell_type": "code",
      "execution_count": 1,
      "metadata": {
        "_cell_guid": "719f3966-e6fd-49c8-9f60-7bd741542450",
        "_uuid": "b61cd3125a7f8f991fc1bda85ae3cd26f74090ae",
        "id": "wNfQwXV17w32"
      },
      "outputs": [],
      "source": [
        "import pandas as pd\n",
        "import numpy as np\n",
        "import math"
      ]
    },
    {
      "cell_type": "code",
      "execution_count": 2,
      "metadata": {
        "_cell_guid": "e601f966-d03f-4edc-886f-ca3d511a8045",
        "_uuid": "569c301bd128f66f29b4d97c34171e4d1712015a",
        "id": "y7UAvo9Y7w33"
      },
      "outputs": [],
      "source": [
        "articles_df = pd.read_csv('data/shared_articles.csv')\n",
        "articles_df = articles_df[articles_df['eventType'] == 'CONTENT SHARED']"
      ]
    },
    {
      "cell_type": "code",
      "execution_count": 3,
      "metadata": {
        "_cell_guid": "445d39ec-f6b0-4155-9f92-0a2540918bd1",
        "_uuid": "9829842326037e364de457f832deceae074d6164",
        "id": "ivJz48uV7w33"
      },
      "outputs": [],
      "source": [
        "interactions_df = pd.read_csv('data/users_interactions.csv')"
      ]
    },
    {
      "cell_type": "code",
      "execution_count": 4,
      "metadata": {
        "id": "IeZKXvNf7w34"
      },
      "outputs": [],
      "source": [
        "interactions_df.personId = interactions_df.personId.astype(str)\n",
        "interactions_df.contentId = interactions_df.contentId.astype(str)\n",
        "articles_df.contentId = articles_df.contentId.astype(str)"
      ]
    },
    {
      "cell_type": "code",
      "execution_count": 5,
      "metadata": {
        "_cell_guid": "3239c376-05b8-4a58-9afc-f6f57f67405f",
        "_uuid": "b06f8c0b082f0ad07bf773a5ad2fae33c1f7acc2",
        "id": "7WY1Hykv7w34"
      },
      "outputs": [],
      "source": [
        "event_type_strength = {\n",
        "   'VIEW': 1.0,\n",
        "   'LIKE': 2.0, \n",
        "   'BOOKMARK': 2.5, \n",
        "   'FOLLOW': 3.0,\n",
        "   'COMMENT CREATED': 4.0,  \n",
        "}"
      ]
    },
    {
      "cell_type": "code",
      "execution_count": 6,
      "metadata": {
        "id": "Z69ayTpr7w34"
      },
      "outputs": [],
      "source": [
        "interactions_df['eventStrength'] = interactions_df.eventType.apply(lambda x: event_type_strength[x])"
      ]
    },
    {
      "cell_type": "code",
      "execution_count": 7,
      "metadata": {
        "_cell_guid": "bad1d8ea-9b67-4a47-80c5-87a5e55c4f38",
        "_uuid": "1698c88340183baa7f3ebb8c3b60eaa8e6ca708f",
        "id": "Rr43SIq_7w35"
      },
      "outputs": [],
      "source": [
        "users_interactions_count_df = (\n",
        "    interactions_df\n",
        "    .groupby(['personId', 'contentId'])\n",
        "    .first()\n",
        "    .reset_index()\n",
        "    .groupby('personId').size())\n",
        "\n",
        "users_with_enough_interactions_df = \\\n",
        "    users_interactions_count_df[users_interactions_count_df >= 5].reset_index()[['personId']]"
      ]
    },
    {
      "cell_type": "code",
      "execution_count": 8,
      "metadata": {
        "_cell_guid": "4e79a418-a9d6-4e01-9f38-9b290a645626",
        "_uuid": "0f428a4c6e76f95de7ea328dc33c6539389ae5f0",
        "id": "g5ni03Z57w35"
      },
      "outputs": [],
      "source": [
        "interactions_from_selected_users_df = interactions_df.loc[np.in1d(interactions_df.personId,\n",
        "            users_with_enough_interactions_df)]"
      ]
    },
    {
      "cell_type": "code",
      "execution_count": 9,
      "metadata": {
        "_cell_guid": "54c82dd1-1102-4f11-ac6a-7993f8e5e842",
        "_uuid": "dcd64b20b47cf2c365341303ff410626a801f7a6",
        "id": "5mXOPSjW7w36"
      },
      "outputs": [],
      "source": [
        "def smooth_user_preference(x):\n",
        "    return math.log(1+x, 2)\n",
        "    \n",
        "interactions_full_df = (\n",
        "    interactions_from_selected_users_df\n",
        "    .groupby(['personId', 'contentId']).eventStrength.sum()\n",
        "    .apply(smooth_user_preference)\n",
        "    .reset_index().set_index(['personId', 'contentId'])\n",
        ")\n",
        "interactions_full_df['last_timestamp'] = (\n",
        "    interactions_from_selected_users_df\n",
        "    .groupby(['personId', 'contentId'])['timestamp'].last()\n",
        ")\n",
        "        \n",
        "interactions_full_df = interactions_full_df.reset_index()"
      ]
    },
    {
      "cell_type": "code",
      "execution_count": 10,
      "metadata": {
        "_cell_guid": "e594a5ef-255a-4d30-9ab2-7cebe12fe798",
        "_uuid": "babda61be5306281b34422dbded67675a0aab17d",
        "id": "Qix5uD7f7w37"
      },
      "outputs": [],
      "source": [
        "from sklearn.model_selection import train_test_split\n",
        "\n",
        "split_ts = 1475519545\n",
        "interactions_train_df = interactions_full_df.loc[interactions_full_df.last_timestamp < split_ts].copy()\n",
        "interactions_test_df = interactions_full_df.loc[interactions_full_df.last_timestamp >= split_ts].copy()\n"
      ]
    },
    {
      "cell_type": "code",
      "execution_count": 11,
      "metadata": {
        "id": "6JS-ZrRl7w38",
        "colab": {
          "base_uri": "https://localhost:8080/"
        },
        "outputId": "9b951630-ee6d-46d9-f6bf-3b5c2cf9b037"
      },
      "outputs": [
        {
          "output_type": "execute_result",
          "data": {
            "text/plain": [
              "2.32"
            ]
          },
          "metadata": {},
          "execution_count": 11
        }
      ],
      "source": [
        "ratings = pd.pivot_table(\n",
        "    interactions_train_df,\n",
        "    values=\"eventStrength\",\n",
        "    index=\"personId\",\n",
        "    columns=\"contentId\",\n",
        ").fillna(0)\n",
        "round(ratings.loc[\"-1032019229384696495\", \"943818026930898372\"], 2)"
      ]
    },
    {
      "cell_type": "code",
      "execution_count": 12,
      "metadata": {
        "colab": {
          "base_uri": "https://localhost:8080/"
        },
        "id": "4nDJAg6p0gAz",
        "outputId": "3137a8de-a23c-451f-a0f9-d32af0d920b5"
      },
      "outputs": [
        {
          "output_type": "execute_result",
          "data": {
            "text/plain": [
              "0.021817748354799122"
            ]
          },
          "metadata": {},
          "execution_count": 12
        }
      ],
      "source": [
        "ratings_m = ratings.values\n",
        "ratings_m.mean()"
      ]
    },
    {
      "cell_type": "code",
      "execution_count": 13,
      "metadata": {
        "colab": {
          "base_uri": "https://localhost:8080/"
        },
        "id": "u1oTr1nS0gAz",
        "outputId": "334796d0-7e9d-4760-e14a-9cb7daeb2f43"
      },
      "outputs": [
        {
          "output_type": "stream",
          "name": "stderr",
          "text": [
            "/usr/local/lib/python3.10/dist-packages/numpy/lib/function_base.py:2829: RuntimeWarning: invalid value encountered in true_divide\n",
            "  c /= stddev[:, None]\n",
            "/usr/local/lib/python3.10/dist-packages/numpy/lib/function_base.py:2830: RuntimeWarning: invalid value encountered in true_divide\n",
            "  c /= stddev[None, :]\n",
            "/usr/local/lib/python3.10/dist-packages/numpy/lib/function_base.py:2821: RuntimeWarning: Degrees of freedom <= 0 for slice\n",
            "  c = cov(x, y, rowvar, dtype=dtype)\n",
            "/usr/local/lib/python3.10/dist-packages/numpy/lib/function_base.py:2680: RuntimeWarning: divide by zero encountered in true_divide\n",
            "  c *= np.true_divide(1, fact)\n",
            "/usr/local/lib/python3.10/dist-packages/numpy/lib/function_base.py:2680: RuntimeWarning: invalid value encountered in multiply\n",
            "  c *= np.true_divide(1, fact)\n",
            "/usr/local/lib/python3.10/dist-packages/numpy/lib/function_base.py:495: RuntimeWarning: Mean of empty slice.\n",
            "  avg = a.mean(axis)\n",
            "/usr/local/lib/python3.10/dist-packages/numpy/core/_methods.py:181: RuntimeWarning: invalid value encountered in true_divide\n",
            "  ret = um.true_divide(\n"
          ]
        },
        {
          "output_type": "execute_result",
          "data": {
            "text/plain": [
              "nan"
            ]
          },
          "metadata": {},
          "execution_count": 13
        }
      ],
      "source": [
        "similarity_users = np.zeros((len(ratings_m), len(ratings_m)))\n",
        "for i in (range(len(ratings_m)-1)):\n",
        "    for j in range(i+1, len(ratings_m)):\n",
        "     \n",
        "        mask_uv = (ratings_m[i] != 0) & (ratings_m[j] != 0)\n",
        "        ratings_v = ratings_m[i, mask_uv]\n",
        "        ratings_u = ratings_m[j, mask_uv]\n",
        "\n",
        "        similarity_users[i,j] = np.corrcoef(ratings_v, ratings_u)[0, 1]\n",
        "        similarity_users[j,i] = similarity_users[i,j]\n",
        "\n",
        "similarity_users[3,40]"
      ]
    },
    {
      "cell_type": "code",
      "execution_count": 14,
      "metadata": {
        "colab": {
          "base_uri": "https://localhost:8080/",
          "height": 36
        },
        "id": "TQDWwije0gAz",
        "outputId": "310ebe05-1a73-468f-fa06-4771e4d9f2b9"
      },
      "outputs": [
        {
          "output_type": "execute_result",
          "data": {
            "text/plain": [
              "'-3285397592982852407'"
            ],
            "application/vnd.google.colaboratory.intrinsic+json": {
              "type": "string"
            }
          },
          "metadata": {},
          "execution_count": 14
        }
      ],
      "source": [
        "interactions = (\n",
        "    interactions_train_df\n",
        "    .groupby('personId')['contentId'].agg(lambda x: list(x))\n",
        "    .reset_index()\n",
        "    .rename(columns={'contentId': 'true_train'})\n",
        "    .set_index('personId')\n",
        ")\n",
        " \n",
        "interactions['true_test'] = (\n",
        "    interactions_test_df\n",
        "    .groupby('personId')['contentId'].agg(lambda x: list(x))\n",
        ")\n",
        " \n",
        "interactions['true_test'] = [ [] if x is np.NaN else x for x in interactions['true_test'] ]\n",
        "\n",
        "prediction_user_based = []\n",
        "for i in range(len(similarity_users)):\n",
        "    users_sim = similarity_users[i] > 0\n",
        "    if not any(users_sim):\n",
        "        prediction_user_based.append([])\n",
        "    else:\n",
        "        tmp_recommend = np.argsort(ratings_m[users_sim].sum(axis=0))[::-1]\n",
        "        tmp_recommend = ratings.columns[tmp_recommend]\n",
        "        recommend = np.array(tmp_recommend)[~np.in1d(tmp_recommend, interactions.iloc[i][\"true_train\"])][:10]\n",
        "        prediction_user_based.append(list(recommend))\n",
        "interactions['prediction_user_based'] = prediction_user_based\n",
        "prediction_user_based[35][0]"
      ]
    },
    {
      "cell_type": "code",
      "execution_count": 15,
      "metadata": {
        "id": "p4Iuy11E0gA0"
      },
      "outputs": [],
      "source": [
        "def calc_precision(column):\n",
        "    return ( interactions.apply(  lambda row:len(set(row['true_test']).intersection(\n",
        "                set(row[column]))) /min(len(row['true_test']) + 0.001, 10.0), axis=1)).mean()"
      ]
    },
    {
      "cell_type": "code",
      "execution_count": 16,
      "metadata": {
        "colab": {
          "base_uri": "https://localhost:8080/"
        },
        "id": "XukfmjAn0gA0",
        "outputId": "5f8f83a3-0fd2-434a-c19c-0fdf2776c301"
      },
      "outputs": [
        {
          "output_type": "execute_result",
          "data": {
            "text/plain": [
              "0.0"
            ]
          },
          "metadata": {},
          "execution_count": 16
        }
      ],
      "source": [
        "round(calc_precision('prediction_user_based'), 3)"
      ]
    },
    {
      "cell_type": "code",
      "execution_count": 17,
      "metadata": {
        "colab": {
          "base_uri": "https://localhost:8080/"
        },
        "id": "YYfKpeg_0gA0",
        "outputId": "ee786221-b24d-466c-b131-b050665c13d3"
      },
      "outputs": [
        {
          "output_type": "execute_result",
          "data": {
            "text/plain": [
              "0.6845218547813495"
            ]
          },
          "metadata": {},
          "execution_count": 17
        }
      ],
      "source": [
        "from scipy import linalg\n",
        "U, sigma, V = linalg.svd(ratings)\n",
        "U.max()"
      ]
    },
    {
      "cell_type": "code",
      "execution_count": 18,
      "metadata": {
        "colab": {
          "base_uri": "https://localhost:8080/"
        },
        "id": "nWr-bvtH0gA0",
        "outputId": "2f2c2e41-4d18-4b08-cd6b-6106cd482e4a"
      },
      "outputs": [
        {
          "output_type": "execute_result",
          "data": {
            "text/plain": [
              "1817.45"
            ]
          },
          "metadata": {},
          "execution_count": 18
        }
      ],
      "source": [
        "k = 100\n",
        "s = np.diag(sigma[:k])\n",
        "U = U[:, 0:k]\n",
        "V = V[0:k, :]\n",
        "\n",
        "round(s.sum(), 2)"
      ]
    },
    {
      "cell_type": "code",
      "execution_count": 19,
      "metadata": {
        "colab": {
          "base_uri": "https://localhost:8080/"
        },
        "id": "mGnkoMgY0gA0",
        "outputId": "ef93d020-2662-4752-dc75-4b1f7770c821"
      },
      "outputs": [
        {
          "output_type": "execute_result",
          "data": {
            "text/plain": [
              "0.0"
            ]
          },
          "metadata": {},
          "execution_count": 19
        }
      ],
      "source": [
        "new_ratings = pd.DataFrame(\n",
        "    U.dot(s).dot(V), index=ratings.index, columns=ratings.columns\n",
        ")\n",
        "top_k = 10\n",
        "predictions = []\n",
        "\n",
        "for personId in interactions.index:\n",
        "    prediction = (\n",
        "        new_ratings.loc[personId].sort_values(ascending=False).index.values\n",
        "    )\n",
        "\n",
        "    predictions.append(\n",
        "        list(\n",
        "            prediction[\n",
        "                ~np.in1d(prediction, interactions.loc[personId, \"true_train\"])\n",
        "            ]\n",
        "        )[:top_k]\n",
        "    )\n",
        "\n",
        "interactions[\"prediction_svd\"] = predictions\n",
        "\n",
        "calc_precision(\"prediction_svd\")"
      ]
    },
    {
      "cell_type": "code",
      "execution_count": 20,
      "metadata": {
        "id": "ThNFVM-90gA1"
      },
      "outputs": [],
      "source": [
        "from scipy.sparse import csr_matrix\n",
        "ratings_matrix = csr_matrix(ratings)"
      ]
    },
    {
      "cell_type": "code",
      "execution_count": 23,
      "metadata": {
        "colab": {
          "base_uri": "https://localhost:8080/"
        },
        "id": "99dOu6Uq0gA1",
        "outputId": "4ea9a838-6ff8-4f47-97e3-4810fbd93d9a"
      },
      "outputs": [
        {
          "output_type": "stream",
          "name": "stdout",
          "text": [
            "0.03\n"
          ]
        }
      ],
      "source": [
        "from lightfm import LightFM\n",
        "from lightfm.cross_validation import random_train_test_split\n",
        "from lightfm.evaluation import precision_at_k, recall_at_k  \n",
        "from scipy.sparse import csr_matrix\n",
        "\n",
        "ratings_matrix = csr_matrix(ratings) # передаём в качестве аргументов в функцию выставленный рейтинг (это будут значения матрицы), а также id пользователя и id книги (это будут индексы для строк и столбцов матрицы)\n",
        "model = LightFM(loss='warp', #определяем функцию потерь\n",
        "                random_state=13, #фиксируем случайное разбиение\n",
        "                learning_rate=0.05, #темп обучения\n",
        "                no_components=100) #размерность вектора для представления данных в модели\n",
        "\n",
        "train,test = random_train_test_split(ratings_matrix, test_percentage=0.3, random_state=13)\n",
        "model.fit(train)\n",
        "prec_score = precision_at_k(model, test).mean()\n",
        "\n",
        "\n",
        "print(round(prec_score, 2))"
      ]
    }
  ],
  "metadata": {
    "colab": {
      "provenance": [],
      "include_colab_link": true
    },
    "kernelspec": {
      "display_name": "Python 3 (ipykernel)",
      "language": "python",
      "name": "python3"
    },
    "language_info": {
      "codemirror_mode": {
        "name": "ipython",
        "version": 3
      },
      "file_extension": ".py",
      "mimetype": "text/x-python",
      "name": "python",
      "nbconvert_exporter": "python",
      "pygments_lexer": "ipython3",
      "version": "3.11.3"
    }
  },
  "nbformat": 4,
  "nbformat_minor": 0
}