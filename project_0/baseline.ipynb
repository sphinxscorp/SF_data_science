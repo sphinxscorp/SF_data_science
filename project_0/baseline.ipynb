{
  "cells": [
    {
      "cell_type": "markdown",
      "metadata": {
        "id": "dWcE-y-N-2fE"
      },
      "source": [
        "# Угадай число\n",
        "Нужно написать программу, которая угадывает число за минимальное число попыток.\n",
        "\n",
        "## Условия соревнования\n",
        "- Компьютер загадывает целое число от 1 до 100, и нам его нужно угадать. Под «угадать», подразумевается «написать программу, которая угадывает число».    \n",
        "- Алгоритм учитывает информацию о том, больше ли случайное число или меньше нужного нам.\n",
        "- Необходимо добиться того, чтобы программа угадывала число меньше, чем за 20 попыток. \n"
      ]
    },
    {
      "cell_type": "code",
      "execution_count": null,
      "metadata": {
        "colab": {
          "base_uri": "https://localhost:8080/"
        },
        "id": "8fYFyLKIP59e",
        "outputId": "f26487ee-ec3e-467a-a389-17ae06a238ac"
      },
      "outputs": [
        {
          "output_type": "stream",
          "name": "stdout",
          "text": [
            "Загадай число от 1 до 100: 1\n",
            "Число должно быть больше\n",
            "Загадай число от 1 до 100: 34\n",
            "Число должно быть больше\n",
            "Загадай число от 1 до 100: 67\n",
            "Число должно быть меньше\n",
            "Загадай число от 1 до 100: 60\n",
            "Число должно быть меньше\n",
            "Загадай число от 1 до 100: 50\n",
            "Число должно быть меньше\n",
            "Загадай число от 1 до 100: 40\n",
            "Число должно быть меньше\n",
            "Загадай число от 1 до 100: 35\n",
            "Число должно быть больше\n",
            "Загадай число от 1 до 100: 36\n",
            "Число должно быть больше\n",
            "Загадай число от 1 до 100: 37\n",
            "Число должно быть больше\n",
            "Загадай число от 1 до 100: 38\n",
            "Число должно быть больше\n",
            "Загадай число от 1 до 100: 39\n",
            "Число угадано! Это число = 39, за 11 попыток\n"
          ]
        }
      ],
      "source": [
        "import numpy as np\n",
        "''\n",
        "number = np.random.randint (1, 101)\n",
        "count = 0\n",
        "while True:\n",
        "  count+=1\n",
        "  predict_number = int (input (\"Загадай число от 1 до 100: \"))\n",
        "\n",
        "  if predict_number > number:\n",
        "      print (\"Число должно быть меньше\")\n",
        "\n",
        "  elif predict_number < number:\n",
        "      print (\"Число должно быть больше\")\n",
        "\n",
        "  else:\n",
        "      print (f\"Число угадано! Это число = {number}, за {count} попыток\")\n",
        "      break\n",
        "\n",
        "\n"
      ]
    },
    {
      "cell_type": "markdown",
      "metadata": {
        "id": "4sShzLei_ClF"
      },
      "source": [
        "Импортируем библиотеку, которая нам пригодится для генерации случайных чисел. В следующих темах вы познакомитесь с ней подробнее:"
      ]
    },
    {
      "cell_type": "code",
      "execution_count": null,
      "metadata": {
        "id": "KIy8PgXL-2fH"
      },
      "outputs": [],
      "source": [
        "import numpy as np\n",
        "from numpy import random"
      ]
    },
    {
      "cell_type": "markdown",
      "metadata": {
        "id": "jf8LUtxQBChn"
      },
      "source": [
        "Ниже уже даны два простейших подхода к решению этой задачи. Посмотрим на них. "
      ]
    },
    {
      "cell_type": "markdown",
      "metadata": {
        "id": "vCYaUH3WavwF"
      },
      "source": [
        ""
      ]
    },
    {
      "cell_type": "markdown",
      "metadata": {
        "id": "RgW1apuGavjh"
      },
      "source": [
        ""
      ]
    },
    {
      "cell_type": "markdown",
      "metadata": {
        "id": "gmX1PIZ-avSg"
      },
      "source": [
        ""
      ]
    },
    {
      "cell_type": "markdown",
      "metadata": {
        "id": "u_dUlZ2eau1L"
      },
      "source": [
        ""
      ]
    },
    {
      "cell_type": "markdown",
      "metadata": {
        "id": "shciKwTp-2fJ"
      },
      "source": [
        "## Подход 1: Случайное угадывание"
      ]
    },
    {
      "cell_type": "markdown",
      "metadata": {
        "id": "XCYf-uZa-_Oa"
      },
      "source": [
        "Простейший способ решения: научить программу случайным образом выбирать число до тех пор, пока оно не будет угадано. Этот способ не дает хорошего результата, однако будет для нас хорошей стартовой точкой."
      ]
    },
    {
      "cell_type": "code",
      "execution_count": null,
      "metadata": {
        "id": "pJaQGNND-2fK"
      },
      "outputs": [],
      "source": [
        "def random_predict(number: int = 1) -> int:\n",
        "    \"\"\"Просто угадываем на random, никак не используя информацию о больше или меньше.\n",
        "       Функция принимает загаданное число и возвращает число попыток\n",
        "\n",
        "    Args:\n",
        "        number (int, optional): Загаданное число. Defaults to 1.\n",
        "\n",
        "    Returns:\n",
        "        int: Число попыток\n",
        "    \"\"\"\n",
        "    count = 0\n",
        "\n",
        "    while True:\n",
        "        count += 1\n",
        "        predict_number = np.random.randint(1, 101)  # предполагаемое число\n",
        "        if number == predict_number:\n",
        "            break  # выход из цикла если угадали\n",
        "    \n",
        "    return count\n"
      ]
    },
    {
      "cell_type": "code",
      "execution_count": null,
      "metadata": {
        "colab": {
          "base_uri": "https://localhost:8080/"
        },
        "id": "pPMEWSbYc4Jl",
        "outputId": "7c295706-77cd-481a-bb9e-0830a386597a"
      },
      "outputs": [
        {
          "data": {
            "text/plain": [
              "72"
            ]
          },
          "execution_count": 6,
          "metadata": {},
          "output_type": "execute_result"
        }
      ],
      "source": [
        "random_predict(74)"
      ]
    },
    {
      "cell_type": "markdown",
      "metadata": {
        "id": "Da8TSXrE_2QC"
      },
      "source": [
        "## Подход 2: Угадывание с коррекцией"
      ]
    },
    {
      "cell_type": "markdown",
      "metadata": {
        "id": "UeFYnSZi_7uZ"
      },
      "source": [
        "Сначала устанавливаем любое случайное число, а потом уменьшаем или увеличиваем его в зависимости от того, больше оно или меньше нужного."
      ]
    },
    {
      "cell_type": "code",
      "execution_count": null,
      "metadata": {
        "colab": {
          "base_uri": "https://localhost:8080/"
        },
        "id": "bFzp7ROY_QYY",
        "outputId": "af0b9c6d-339c-49c4-921b-a40b85cd8663"
      },
      "outputs": [
        {
          "data": {
            "text/plain": [
              "42"
            ]
          },
          "execution_count": 6,
          "metadata": {},
          "output_type": "execute_result"
        }
      ],
      "source": [
        "def game_core_v2(number: int = 1) -> int:\n",
        "    \"\"\"Сначала устанавливаем любое random число, а потом уменьшаем\n",
        "    или увеличиваем его в зависимости от того, больше оно или меньше нужного.\n",
        "       Функция принимает загаданное число и возвращает число попытокarrow_up в readme\n",
        "       \n",
        "    Args:\n",
        "        number (int, optional): Загаданное число. Defaults to 1.\n",
        "\n",
        "    Returns:\n",
        "        int: Число попыток\n",
        "    \"\"\"\n",
        "    count = 0\n",
        "    predict = np.random.randint(1, 101)\n",
        "    \n",
        "    while number != predict:\n",
        "        count += 1\n",
        "        if number > predict:\n",
        "            predict += 1\n",
        "        elif number < predict:\n",
        "            predict -= 1\n",
        "\n",
        "    return count\n",
        "\n",
        "game_core_v2(99)"
      ]
    },
    {
      "cell_type": "code",
      "execution_count": null,
      "metadata": {
        "colab": {
          "base_uri": "https://localhost:8080/"
        },
        "id": "Hp67kq7xBQdv",
        "outputId": "fa82fba8-b546-454c-ca92-3576fc14f04f"
      },
      "outputs": [
        {
          "output_type": "stream",
          "name": "stdout",
          "text": [
            "Компьютер угадал число за 6 попыток. Это число 2\n"
          ]
        }
      ],
      "source": [
        "'''Игра компьютер угадает число меньше чем за 20 попыток'''\n",
        "\n",
        "import numpy as np\n",
        "\n",
        "min = 1\n",
        "max = 101\n",
        "\n",
        "number = np.random.randint(min, max)\n",
        "\n",
        "count = 0\n",
        "\n",
        "while True:\n",
        "    count+=1\n",
        "    mid = round((min+max) / 2)\n",
        "    \n",
        "    if mid > number:\n",
        "        max = mid\n",
        "    \n",
        "    elif mid < number:\n",
        "        min = mid\n",
        "\n",
        "    else:\n",
        "        print(f\"Компьютер угадал число за {count} попыток. Это число {number}\")\n",
        "        break #конец игры выход из цикла\n",
        "    "
      ]
    },
    {
      "cell_type": "code",
      "execution_count": null,
      "metadata": {
        "id": "pZPOs1ljRyuz"
      },
      "outputs": [],
      "source": [
        "\n",
        "def game_core_v2(number: int = 1) -> int:\n",
        "    \"\"\"Сначала устанавливаем любое random число, а потом уменьшаем\n",
        "    или увеличиваем его в зависимости от того, больше оно или меньше нужного.\n",
        "       Функция принимает загаданное число и возвращает число попыток arrow_up в readme\n",
        "       \n",
        "    Args:\n",
        "        number (int, optional): Загаданное число. Defaults to 1.\n",
        "\n",
        "    Returns:\n",
        "        int: Число попыток\n",
        "    \"\"\"\n",
        "    limit_a = 1\n",
        "    count = 0\n",
        "    limit_b = 101\n",
        "    predict = np.random.randint(1, 101)\n",
        "    \n",
        "    while number != predict:  \n",
        "        count += 1\n",
        "        predict = np.random.randint(limit_a, limit_b)\n",
        "        if number > predict:\n",
        "            limit_b = number\n",
        "                       \n",
        "        elif number < predict:\n",
        "            limit_a = number\n",
        "    return count\n",
        "game_core_v2(35)\n"
      ]
    },
    {
      "cell_type": "code",
      "execution_count": null,
      "metadata": {
        "colab": {
          "base_uri": "https://localhost:8080/"
        },
        "id": "qAeopOivVVpL",
        "outputId": "4db1e993-a770-4f80-9ab3-c3248444a3e4"
      },
      "outputs": [
        {
          "data": {
            "text/plain": [
              "64"
            ]
          },
          "execution_count": 8,
          "metadata": {},
          "output_type": "execute_result"
        }
      ],
      "source": [
        "import numpy as np\n",
        "from numpy import random\n",
        "def game_core_v2(number: int = 1) -> int:\n",
        "    \"\"\"Сначала устанавливаем любое random число, а потом уменьшаем\n",
        "    или увеличиваем его в зависимости от того, больше оно или меньше нужного.\n",
        "       Функция принимает загаданное число и возвращает число попыток arrow_up в readme\n",
        "       \n",
        "    Args:\n",
        "        number (int, optional): Загаданное число. Defaults to 1.\n",
        "\n",
        "    Returns:\n",
        "        int: Число попыток\n",
        "    \"\"\"\n",
        "    limit_a = 1\n",
        "    count = 0\n",
        "    limit_b = 101\n",
        "    predict = np.random.randint(limit_a, limit_b)\n",
        "    \n",
        "    while number != predict:\n",
        "        count += 1\n",
        "        if number > predict:\n",
        "            predict += 1\n",
        "            limit_b = number\n",
        "\n",
        "        elif number < predict:\n",
        "            predict -= 1\n",
        "            limit_a = number\n",
        "\n",
        "    return count\n",
        "game_core_v2(35)\n"
      ]
    },
    {
      "cell_type": "code",
      "execution_count": null,
      "metadata": {
        "colab": {
          "base_uri": "https://localhost:8080/"
        },
        "id": "sbfKzzMvWJkw",
        "outputId": "7853e34e-11ab-497e-8f88-1e4fa3674f25"
      },
      "outputs": [
        {
          "data": {
            "text/plain": [
              "38"
            ]
          },
          "execution_count": 15,
          "metadata": {},
          "output_type": "execute_result"
        }
      ],
      "source": [
        "import numpy as np\n",
        "from numpy import random\n",
        "def game_core_v2(number: int = 1) -> int:\n",
        "    limit_a = 1\n",
        "    count = 0\n",
        "    limit_b = 101\n",
        "    predict = np.random.randint(limit_a, limit_b)\n",
        "    \n",
        "    while number != predict:\n",
        "        count += 1\n",
        "        if number > predict:\n",
        "            limit_b = number\n",
        "            predict = np.random.randint(limit_a, limit_b)\n",
        "\n",
        "        elif number < predict:\n",
        "            limit_a = number\n",
        "            predict = np.random.randint(limit_a, limit_b)\n",
        "\n",
        "\n",
        "    return count\n",
        "game_core_v2(35)\n"
      ]
    },
    {
      "cell_type": "markdown",
      "metadata": {
        "id": "t3rDQ1wTBaXC"
      },
      "source": [
        "Посмотрим, как эти программы справляются с задачей."
      ]
    },
    {
      "cell_type": "markdown",
      "metadata": {
        "id": "GCu4m8fu_-al"
      },
      "source": [
        "## Функция для оценки"
      ]
    },
    {
      "cell_type": "markdown",
      "metadata": {
        "id": "jJSXAab0xHD7"
      },
      "source": [
        ""
      ]
    },
    {
      "cell_type": "markdown",
      "metadata": {
        "id": "7ZlAJ37fAJ99"
      },
      "source": [
        "Эта функция необходима, чтобы определить, за какое число попыток программа угадывает наше число."
      ]
    },
    {
      "cell_type": "code",
      "execution_count": null,
      "metadata": {
        "id": "t4WXEDFS_ThY"
      },
      "outputs": [],
      "source": [
        "def score_game(random_predict) -> int:\n",
        "    \"\"\"За какое количество попыток в среднем за 10000 подходов угадывает наш алгоритм\n",
        "\n",
        "    Args:\n",
        "        random_predict ([type]): функция угадывания\n",
        "\n",
        "    Returns:\n",
        "        int: среднее количество попыток\n",
        "    \"\"\"\n",
        "    count_ls = []\n",
        "    np.random.seed(1)  # фиксируем сид для воспроизводимости\n",
        "    random_array = np.random.randint(1, 101, size=(10000))  # загадали списоконлайн переводчик чисел\n",
        "\n",
        "    for number in random_array:\n",
        "        count_ls.append(random_predict(number))\n",
        "\n",
        "    score = int(np.mean(count_ls))\n",
        "    print(f\"Ваш алгоритм угадывает число в среднем за: {score} попытки\")"
      ]
    },
    {
      "cell_type": "markdown",
      "metadata": {
        "id": "PCC3-Hwz-2fL"
      },
      "source": [
        "### Оценка работы алгоритмов\n",
        "Определяем, какой подход лучше. "
      ]
    },
    {
      "cell_type": "code",
      "execution_count": null,
      "metadata": {
        "colab": {
          "background_save": true,
          "base_uri": "https://localhost:8080/"
        },
        "id": "khrxOcEB-2fM",
        "outputId": "d3f52e94-b8cf-42ab-ab68-37bb62d0d423"
      },
      "outputs": [
        {
          "name": "stdout",
          "output_type": "stream",
          "text": [
            "Run benchmarking for random_predict: Ваш алгоритм угадывает число в среднем за: 100 попытки\n",
            "Run benchmarking for game_core_v2: "
          ]
        }
      ],
      "source": [
        "#Run benchmarking to score effectiveness of all algorithms\n",
        "print('Run benchmarking for random_predict: ', end='')\n",
        "score_game(random_predict)\n",
        "\n",
        "print('Run benchmarking for game_core_v2: ', end='')\n",
        "score_game(game_core_v2)"
      ]
    },
    {
      "cell_type": "code",
      "execution_count": null,
      "metadata": {
        "colab": {
          "base_uri": "https://localhost:8080/"
        },
        "id": "12-TQnb0tayz",
        "outputId": "f4b67c52-476a-448a-9be3-d332ef333bb6"
      },
      "outputs": [
        {
          "output_type": "stream",
          "name": "stdout",
          "text": [
            "Компьютер угадал число за 7 попыток. Это число 53\n"
          ]
        }
      ],
      "source": [
        "'''Игра компьютер угадает число меньше чем за 20 попыток'''\n",
        "\n",
        "import numpy as np\n",
        "\n",
        "min = 1\n",
        "max = 101\n",
        "\n",
        "number = np.random.randint(min, max)\n",
        "\n",
        "count = 0\n",
        "\n",
        "while True:\n",
        "    count+=1\n",
        "    mid = round((min+max) / 2)\n",
        "    \n",
        "    if mid > number:\n",
        "        max = mid\n",
        "    \n",
        "    elif mid < number:\n",
        "        min = mid\n",
        "\n",
        "    else:\n",
        "        print(f\"Компьютер угадал число за {count} попыток. Это число {number}\")\n",
        "        break #конец игры выход из цикла\n",
        "    \n"
      ]
    },
    {
      "cell_type": "markdown",
      "metadata": {
        "id": "ut1BGV0tuLsz"
      },
      "source": [
        ""
      ]
    },
    {
      "cell_type": "markdown",
      "metadata": {
        "id": "_H0wabPwBfRo"
      },
      "source": [
        "Как мы видим, две предложенные программы показывают не лучший результат.\n",
        "Теперь вы попробуете решить эту задачу и найти более обтимальный алгоритм."
      ]
    },
    {
      "cell_type": "markdown",
      "metadata": {
        "id": "ZIdPcSWzB0G1"
      },
      "source": [
        "## Подход 3: Ваше решение\n",
        "\n"
      ]
    },
    {
      "cell_type": "markdown",
      "metadata": {
        "id": "KPT5reW1B32U"
      },
      "source": [
        "Напишите функцию, которая принимает на вход загаданное число и возвращает число попыток угадывания. "
      ]
    },
    {
      "cell_type": "markdown",
      "metadata": {
        "id": "UDeCIsG9CACE"
      },
      "source": [
        "Оценим качество вашего алгоритма:"
      ]
    },
    {
      "cell_type": "code",
      "execution_count": null,
      "metadata": {
        "id": "giSKBUmgCAeh"
      },
      "outputs": [],
      "source": [
        "print('Run benchmarking for game_core_v3: ', end='')\n",
        "\n",
        "game_core_v3()"
      ]
    },
    {
      "cell_type": "code",
      "execution_count": null,
      "metadata": {
        "colab": {
          "base_uri": "https://localhost:8080/",
          "height": 300
        },
        "id": "Q-fdGk_RpGIV",
        "outputId": "506f1e5c-32d0-4ee6-e501-27af3a055f72"
      },
      "outputs": [
        {
          "ename": "ModuleNotFoundError",
          "evalue": "ignored",
          "output_type": "error",
          "traceback": [
            "\u001b[0;31m---------------------------------------------------------------------------\u001b[0m",
            "\u001b[0;31mModuleNotFoundError\u001b[0m                       Traceback (most recent call last)",
            "\u001b[0;32m<ipython-input-9-e8d1c558df10>\u001b[0m in \u001b[0;36m<module>\u001b[0;34m()\u001b[0m\n\u001b[0;32m----> 1\u001b[0;31m \u001b[0;32mimport\u001b[0m \u001b[0mgame_v2\u001b[0m\u001b[0;34m\u001b[0m\u001b[0;34m\u001b[0m\u001b[0m\n\u001b[0m",
            "\u001b[0;31mModuleNotFoundError\u001b[0m: No module named 'game_v2'",
            "",
            "\u001b[0;31m---------------------------------------------------------------------------\u001b[0;32m\nNOTE: If your import is failing due to a missing package, you can\nmanually install dependencies using either !pip or !apt.\n\nTo view examples of installing some common dependencies, click the\n\"Open Examples\" button below.\n\u001b[0;31m---------------------------------------------------------------------------\u001b[0m\n"
          ]
        }
      ],
      "source": [
        "import game_v2  "
      ]
    },
    {
      "cell_type": "markdown",
      "metadata": {
        "id": "7gc6XmUPC04X"
      },
      "source": [
        "Напомним, что для успешного решения задания программа должна угадывать число меньше чем за 20 попыток!"
      ]
    },
    {
      "cell_type": "code",
      "execution_count": null,
      "metadata": {
        "colab": {
          "base_uri": "https://localhost:8080/"
        },
        "id": "0DR5WrNuA7zu",
        "outputId": "036a8ad6-3bb0-4564-ed28-3431322e9a92"
      },
      "outputs": [
        {
          "data": {
            "text/plain": [
              "4"
            ]
          },
          "execution_count": 5,
          "metadata": {},
          "output_type": "execute_result"
        }
      ],
      "source": [
        "def game(number: int = 1) -> int:\n",
        "    count = 1\n",
        "    min, max = 1, 100\n",
        "    number_predict = max / 2\n",
        "    while number != number_predict:\n",
        "        count+=1\n",
        " \n",
        "        if number > number_predict: \n",
        "            min = number_predict\n",
        "            number_predict = round((max + min) / 2)\n",
        "        elif number < number_predict: \n",
        "            max = number_predict\n",
        "            number_predict = round((max + min) / 2)\n",
        "            while number != number_predict:\n",
        "                if number > number_predict:\n",
        "                    min = number_predict\n",
        "                    number_predict = round((max + min) / 2)\n",
        "                elif number < number_predict: \n",
        "                    max = number_predict\n",
        "                    number_predict = round((max + min) / 2)\n",
        "                    while number != number_predict:\n",
        "                        if number > number_predict:\n",
        "                            min = number_predict\n",
        "                            number_predict = round((max + min) / 2)\n",
        "                        elif number < number_predict: \n",
        "                            max = number_predict\n",
        "                            number_predict = round((max + min) / 2) \n",
        "                            while number != number_predict:\n",
        "                                if number > number_predict:\n",
        "                                    min = number_predict\n",
        "                                    number_predict = round((max + min) / 2)\n",
        "                                elif number < number_predict: \n",
        "                                    max = number_predict\n",
        "                                    number_predict = round((max + min) / 2)\n",
        "                                    while number != number_predict:\n",
        "                                        if number > number_predict:\n",
        "                                            min = number_predict\n",
        "                                            number_predict = round((max + min) / 2)\n",
        "                                        elif number < number_predict: \n",
        "                                            max = number_predict\n",
        "                                            number_predict = round((max + min) / 2)\n",
        "                                            while number != number_predict:\n",
        "                                                if number > number_predict:\n",
        "                                                    min = number_predict\n",
        "                                                    number_predict = round((max + min) / 2) \n",
        "                                                elif number < number_predict: \n",
        "                                                    max = number_predict\n",
        "                                                    number_predict = round((max + min) / 2)    \n",
        "                                                    while number != number_predict:\n",
        "                                                        if number > number_predict:\n",
        "                                                            min = number_predict\n",
        "                                                            number_predict = round((max + min) / 2) \n",
        "                                                        elif number < number_predict: \n",
        "                                                            max = number_predict\n",
        "                                                            number_predict = round((max + min) / 2) \n",
        "    \n",
        "    return count\n",
        "game(80)"
      ]
    },
    {
      "cell_type": "code",
      "execution_count": null,
      "metadata": {
        "id": "6c-vmJQrBSaJ"
      },
      "outputs": [],
      "source": [
        ""
      ]
    },
    {
      "cell_type": "code",
      "execution_count": null,
      "metadata": {
        "colab": {
          "base_uri": "https://localhost:8080/"
        },
        "id": "e2VJSJPRBT9D",
        "outputId": "76c49e71-001d-424c-f58e-ba5d299ffd40"
      },
      "outputs": [
        {
          "data": {
            "text/plain": [
              "76"
            ]
          },
          "execution_count": 6,
          "metadata": {},
          "output_type": "execute_result"
        }
      ],
      "source": [
        "def game_core_v2(number: int = 1) -> int:\n",
        "    \"\"\"Сначала устанавливаем любое random число, а потом уменьшаем\n",
        "    или увеличиваем его в зависимости от того, больше оно или меньше нужного.\n",
        "       Функция принимает загаданное число и возвращает число попыток arrow_up в readme\n",
        "       \n",
        "    Args:\n",
        "        number (int, optional): Загаданное число. Defaults to 1.\n",
        "\n",
        "    Returns:\n",
        "        int: Число попыток\n",
        "    \"\"\"\n",
        "    count = 0\n",
        "    predict = np.random.randint(1, 101)\n",
        "    \n",
        "    while number != predict:\n",
        "        count += 1\n",
        "        if number > predict:\n",
        "            predict += 1\n",
        "        elif number < predict:\n",
        "            predict -= 1\n",
        "\n",
        "    return count\n",
        "\n",
        "game_core_v2(99)"
      ]
    },
    {
      "cell_type": "code",
      "execution_count": null,
      "metadata": {
        "colab": {
          "base_uri": "https://localhost:8080/"
        },
        "id": "zSPh_wN2-8lf",
        "outputId": "66e1bd13-2f47-4f14-c5b9-adecffcb6182"
      },
      "outputs": [
        {
          "data": {
            "text/plain": [
              "6"
            ]
          },
          "execution_count": 12,
          "metadata": {},
          "output_type": "execute_result"
        }
      ],
      "source": [
        "def random_predict(number: int=1) -> int:\n",
        "    \"\"\"Угадываем число ограничивая рамки подбора\n",
        "    \n",
        "    Args:\n",
        "        number (int, optional): Загаданное число. Defaults to 1.\n",
        "\n",
        "    Returns:\n",
        "        int: Число попыток\n",
        "    \"\"\"\n",
        "    count = 0 \n",
        "    \n",
        "    min, max = 1, 100\n",
        "    predict_number = max / 2\n",
        "    \n",
        "    while number != predict_number:\n",
        "        count+=1\n",
        "        # сужаем рамки поиска\n",
        "        if number > predict_number: \n",
        "            min = predict_number + 1.5\n",
        "        \n",
        "        elif number < predict_number: \n",
        "            max = predict_number - 1.5\n",
        "        \n",
        "        predict_number = round((max + min ) / 2) # разбиваем по полам новые рамки поиска\n",
        "        \n",
        "            \n",
        "    return(count)\n",
        "random_predict(2)"
      ]
    },
    {
      "cell_type": "code",
      "execution_count": null,
      "metadata": {
        "colab": {
          "base_uri": "https://localhost:8080/",
          "height": 200
        },
        "id": "wfkkoM6q5BM2",
        "outputId": "52de155b-5aa5-40b6-ae62-d29604eba3bd"
      },
      "outputs": [
        {
          "ename": "NameError",
          "evalue": "ignored",
          "output_type": "error",
          "traceback": [
            "\u001b[0;31m---------------------------------------------------------------------------\u001b[0m",
            "\u001b[0;31mNameError\u001b[0m                                 Traceback (most recent call last)",
            "\u001b[0;32m<ipython-input-6-748714b21107>\u001b[0m in \u001b[0;36m<module>\u001b[0;34m()\u001b[0m\n\u001b[1;32m      1\u001b[0m \u001b[0msimplelist\u001b[0m \u001b[0;34m=\u001b[0m \u001b[0;34m[\u001b[0m\u001b[0;36m19\u001b[0m\u001b[0;34m,\u001b[0m \u001b[0;36m242\u001b[0m\u001b[0;34m,\u001b[0m \u001b[0;36m14\u001b[0m\u001b[0;34m,\u001b[0m \u001b[0;36m152\u001b[0m\u001b[0;34m,\u001b[0m \u001b[0;36m142\u001b[0m\u001b[0;34m,\u001b[0m \u001b[0;36m1000\u001b[0m\u001b[0;34m]\u001b[0m\u001b[0;34m\u001b[0m\u001b[0;34m\u001b[0m\u001b[0m\n\u001b[0;32m----> 2\u001b[0;31m \u001b[0mavr\u001b[0m \u001b[0;34m=\u001b[0m \u001b[0mmean\u001b[0m\u001b[0;34m(\u001b[0m\u001b[0msimplelist\u001b[0m\u001b[0;34m)\u001b[0m\u001b[0;34m\u001b[0m\u001b[0;34m\u001b[0m\u001b[0m\n\u001b[0m\u001b[1;32m      3\u001b[0m \u001b[0mprint\u001b[0m\u001b[0;34m(\u001b[0m\u001b[0mavr\u001b[0m\u001b[0;34m)\u001b[0m\u001b[0;34m\u001b[0m\u001b[0;34m\u001b[0m\u001b[0m\n",
            "\u001b[0;31mNameError\u001b[0m: name 'mean' is not defined"
          ]
        }
      ],
      "source": [
        "simplelist = [19, 242, 14, 152, 142, 1000]\n",
        "avr = mean(simplelist)\n",
        "print(avr)"
      ]
    },
    {
      "cell_type": "code",
      "execution_count": null,
      "metadata": {
        "colab": {
          "base_uri": "https://localhost:8080/"
        },
        "id": "xdRBUpnriII6",
        "outputId": "05d20a44-4df1-4576-db20-c89979670ece"
      },
      "outputs": [
        {
          "name": "stdout",
          "output_type": "stream",
          "text": [
            "Компьютер угадал число за 7 попыток. Это число 65\n"
          ]
        }
      ],
      "source": [
        "'''Игра компьютер угадает число меньше чем за 20 попыток'''\n",
        "\n",
        "import numpy as np\n",
        "\n",
        "min = 1\n",
        "max = 101\n",
        "\n",
        "number = np.random.randint(min, max)\n",
        "\n",
        "count = 0\n",
        "\n",
        "while True:\n",
        "    count+=1\n",
        "    mid = round((min+max) / 2)\n",
        "    \n",
        "    if mid > number:\n",
        "        max = mid\n",
        "    \n",
        "    elif mid < number:\n",
        "        min = mid\n",
        "\n",
        "    else:\n",
        "        print(f\"Компьютер угадал число за {count} попыток. Это число {number}\")\n",
        "        break #конец игры выход из цикла\n",
        "    "
      ]
    },
    {
      "cell_type": "markdown",
      "metadata": {
        "id": "eP8CpSk3sLH0"
      },
      "source": [
        ""
      ]
    },
    {
      "cell_type": "code",
      "execution_count": null,
      "metadata": {
        "id": "UdAncZ_aV0gz"
      },
      "outputs": [],
      "source": [
        ""
      ]
    }
  ],
  "metadata": {
    "colab": {
      "collapsed_sections": [],
      "name": "baseline.ipynb",
      "provenance": []
    },
    "interpreter": {
      "hash": "09714a52f69239c6409b3d073f9f3ca0ddb4056fc648d88f7346d3f36a5c4020"
    },
    "kernelspec": {
      "display_name": "Python 3.7.7 64-bit ('ds': conda)",
      "name": "python3"
    },
    "language_info": {
      "codemirror_mode": {
        "name": "ipython",
        "version": 3
      },
      "file_extension": ".py",
      "mimetype": "text/x-python",
      "name": "python",
      "nbconvert_exporter": "python",
      "pygments_lexer": "ipython3",
      "version": "3.7.7"
    }
  },
  "nbformat": 4,
  "nbformat_minor": 0
}