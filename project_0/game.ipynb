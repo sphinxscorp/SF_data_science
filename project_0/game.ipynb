{
 "cells": [
  {
   "cell_type": "markdown",
   "metadata": {},
   "source": [
    "# Игра угадай число"
   ]
  },
  {
   "cell_type": "code",
   "execution_count": 10,
   "metadata": {},
   "outputs": [
    {
     "ename": "ImportError",
     "evalue": "cannot import name 'score_game' from 'game' (d:\\Data Science\\IDE\\project_0\\game.py)",
     "output_type": "error",
     "traceback": [
      "\u001b[1;31m---------------------------------------------------------------------------\u001b[0m",
      "\u001b[1;31mImportError\u001b[0m                               Traceback (most recent call last)",
      "\u001b[1;32md:\\Data Science\\IDE\\project_0\\game.ipynb Cell 2'\u001b[0m in \u001b[0;36m<module>\u001b[1;34m\u001b[0m\n\u001b[0;32m      <a href='vscode-notebook-cell:/d%3A/Data%20Science/IDE/project_0/game.ipynb#ch0000001?line=0'>1</a>\u001b[0m \u001b[39mfrom\u001b[39;00m \u001b[39mgame\u001b[39;00m \u001b[39mimport\u001b[39;00m optimal_predict\n\u001b[1;32m----> <a href='vscode-notebook-cell:/d%3A/Data%20Science/IDE/project_0/game.ipynb#ch0000001?line=1'>2</a>\u001b[0m \u001b[39mfrom\u001b[39;00m \u001b[39mgame\u001b[39;00m \u001b[39mimport\u001b[39;00m score_game\n",
      "\u001b[1;31mImportError\u001b[0m: cannot import name 'score_game' from 'game' (d:\\Data Science\\IDE\\project_0\\game.py)"
     ]
    }
   ],
   "source": [
    "from game import optimal_predict\n",
    "from game import score_game"
   ]
  },
  {
   "cell_type": "markdown",
   "metadata": {},
   "source": [
    "## Угадываем меньше чем за 20 попыток"
   ]
  },
  {
   "cell_type": "markdown",
   "metadata": {},
   "source": []
  },
  {
   "cell_type": "code",
   "execution_count": 6,
   "metadata": {},
   "outputs": [
    {
     "ename": "NameError",
     "evalue": "name 'score_game' is not defined",
     "output_type": "error",
     "traceback": [
      "\u001b[1;31m---------------------------------------------------------------------------\u001b[0m",
      "\u001b[1;31mNameError\u001b[0m                                 Traceback (most recent call last)",
      "\u001b[1;32md:\\Data Science\\IDE\\project_0\\game.ipynb Cell 5'\u001b[0m in \u001b[0;36m<module>\u001b[1;34m\u001b[0m\n\u001b[1;32m----> <a href='vscode-notebook-cell:/d%3A/Data%20Science/IDE/project_0/game.ipynb#ch0000003?line=0'>1</a>\u001b[0m score_game(optimal_predict)\n",
      "\u001b[1;31mNameError\u001b[0m: name 'score_game' is not defined"
     ]
    }
   ],
   "source": [
    "score_game(optimal_predict)"
   ]
  },
  {
   "cell_type": "code",
   "execution_count": null,
   "metadata": {},
   "outputs": [],
   "source": []
  }
 ],
 "metadata": {
  "interpreter": {
   "hash": "1bc81a7310222af0af7ed6be5dba3d911a1c9b8aee41598a695375ef1a531c1e"
  },
  "kernelspec": {
   "display_name": "Python 3.9.10 64-bit",
   "language": "python",
   "name": "python3"
  },
  "language_info": {
   "codemirror_mode": {
    "name": "ipython",
    "version": 3
   },
   "file_extension": ".py",
   "mimetype": "text/x-python",
   "name": "python",
   "nbconvert_exporter": "python",
   "pygments_lexer": "ipython3",
   "version": "3.9.10"
  },
  "orig_nbformat": 4
 },
 "nbformat": 4,
 "nbformat_minor": 2
}
