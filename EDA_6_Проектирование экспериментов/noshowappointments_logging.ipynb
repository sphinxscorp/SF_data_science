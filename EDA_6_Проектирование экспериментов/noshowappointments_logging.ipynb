{
  "cells": [
    {
      "cell_type": "markdown",
      "source": [
        "# Импорт библиотек"
      ],
      "metadata": {
        "id": "aUAqi67vLzhL"
      }
    },
    {
      "cell_type": "code",
      "source": [
        "import pandas as pd \n",
        "\n",
        "import os\n",
        "import logging"
      ],
      "outputs": [],
      "execution_count": null,
      "metadata": {
        "id": "lXinfUuSL6Og"
      }
    },
    {
      "cell_type": "markdown",
      "source": [
        "# Загрузка данных"
      ],
      "metadata": {
        "id": "y3290WaEMCCM"
      }
    },
    {
      "cell_type": "code",
      "source": [
        "df = pd.read_csv('./KaggleV2-May-2016.csv')"
      ],
      "outputs": [],
      "execution_count": null,
      "metadata": {
        "id": "VbAf186tLgqb"
      }
    },
    {
      "cell_type": "markdown",
      "source": [
        "# Логирование информации о данных"
      ],
      "metadata": {
        "id": "hIlLTfPPz3VG"
      }
    },
    {
      "cell_type": "code",
      "source": [
        "# Функция для создания лог-файла и записи в него информации\n",
        "def get_logger(path, file):\n",
        "   \"\"\"[Создает лог-файл для логирования в него]\n",
        "   Аргументы:\n",
        "       path {string} -- путь к директории\n",
        "       file {string} -- имя файла\n",
        "  \n",
        "   Возвращает:\n",
        "       [obj] -- [логер]\n",
        "   \"\"\"\n",
        " \n",
        "   # проверяем, существует ли файл\n",
        "   log_file = os.path.join(path, file)\n",
        " \n",
        "   if not os.path.isfile(log_file):\n",
        "       open(log_file, \"w+\").close()\n",
        " \n",
        "   # поменяем формат логирования\n",
        "   file_logging_format = \"%(levelname)s: %(asctime)s: %(message)s\"\n",
        " \n",
        "   # конфигурируем лог-файл\n",
        "   logging.basicConfig(level=logging.INFO, \n",
        "   format = file_logging_format)\n",
        "   logger = logging.getLogger()\n",
        "  \n",
        "   # создадим хэнлдер для записи лога в файл\n",
        "   handler = logging.FileHandler(log_file)\n",
        " \n",
        "   # установим уровень логирования\n",
        "   handler.setLevel(logging.INFO)\n",
        "  \n",
        "   # создадим формат логирования, используя file_logging_format\n",
        "   formatter = logging.Formatter(file_logging_format)\n",
        "   handler.setFormatter(formatter)\n",
        " \n",
        "   # добавим хэндлер лог-файлу\n",
        "   logger.addHandler(handler)\n",
        " \n",
        "   return logger"
      ],
      "outputs": [],
      "execution_count": null,
      "metadata": {
        "id": "heuTVTZ6vvHd"
      }
    },
    {
      "cell_type": "code",
      "source": [
        "# создаем папку для логирования\n",
        "!mkdir logs"
      ],
      "outputs": [
        {
          "output_type": "stream",
          "name": "stdout",
          "text": [
            "mkdir: cannot create directory ‘logs’: File exists\n"
          ]
        }
      ],
      "execution_count": null,
      "metadata": {
        "id": "7YrkW6YnwGtS",
        "colab": {
          "base_uri": "https://localhost:8080/"
        },
        "outputId": "ce745a05-cb06-45f6-c3cf-f628e317f94e"
      }
    },
    {
      "cell_type": "code",
      "source": [
        "# создаем лог-файл\n",
        "logger = get_logger(path=\"logs/\", file=\"data.logs\")"
      ],
      "outputs": [],
      "execution_count": null,
      "metadata": {
        "id": "26Fl0Sjdv-C2"
      }
    },
    {
      "cell_type": "code",
      "source": [
        "logger.info(\"Data\")"
      ],
      "outputs": [
        {
          "output_type": "stream",
          "name": "stderr",
          "text": [
            "INFO Data\n"
          ]
        }
      ],
      "execution_count": null,
      "metadata": {
        "colab": {
          "base_uri": "https://localhost:8080/"
        },
        "id": "eEsvaL4vv-mO",
        "outputId": "2801c710-7805-4a14-de7b-5908209aa6e3"
      }
    },
    {
      "cell_type": "code",
      "source": [
        "logger.info(\"Data shape {}\".format(df.shape))"
      ],
      "outputs": [
        {
          "output_type": "stream",
          "name": "stderr",
          "text": [
            "INFO Data shape (110527, 14)\n"
          ]
        }
      ],
      "execution_count": null,
      "metadata": {
        "colab": {
          "base_uri": "https://localhost:8080/"
        },
        "id": "HEOhNMk8wSXG",
        "outputId": "341ad825-2180-45f2-a7ee-aee6e7ddab6d"
      }
    },
    {
      "cell_type": "code",
      "source": [
        "logger.info(\"Percentage of women: {}\".format(df[df['No-show']=='Yes']['Gender'].value_counts(True)[0]))"
      ],
      "outputs": [
        {
          "output_type": "stream",
          "name": "stderr",
          "text": [
            "INFO Percentage of women: 0.653882342398853\n"
          ]
        }
      ],
      "execution_count": null,
      "metadata": {
        "colab": {
          "base_uri": "https://localhost:8080/"
        },
        "id": "tODTr_-Lwa7j",
        "outputId": "eb845614-8d34-4001-8f4e-8e2d1f17bf32"
      }
    },
    {
      "cell_type": "code",
      "source": [
        "logger.info(\"Percentage of men: {}\".format(df[df['No-show']=='Yes']['Gender'].value_counts(True)[1]))"
      ],
      "outputs": [
        {
          "output_type": "stream",
          "name": "stderr",
          "text": [
            "INFO Percentage of men: 0.346117657601147\n"
          ]
        }
      ],
      "execution_count": null,
      "metadata": {
        "id": "Yrs_ikOi7e92",
        "colab": {
          "base_uri": "https://localhost:8080/"
        },
        "outputId": "e8500713-9cb9-4a3a-849c-ec02b132c5b2"
      }
    },
    {
      "cell_type": "code",
      "source": [],
      "outputs": [],
      "execution_count": null,
      "metadata": {
        "id": "Yf_j1MN875RV"
      }
    },
    {
      "cell_type": "code",
      "source": [
        "if df.shape != (110526,14):\n",
        "  logger.error('Data shape is incorrect!')"
      ],
      "outputs": [
        {
          "output_type": "stream",
          "name": "stderr",
          "text": [
            "ERROR Data shape is incorrect!\n"
          ]
        }
      ],
      "execution_count": null,
      "metadata": {
        "colab": {
          "base_uri": "https://localhost:8080/"
        },
        "id": "kdcs0ys575c_",
        "outputId": "bd2da9f1-29c7-497a-be40-f3c76f7218ba"
      }
    }
  ],
  "metadata": {
    "colab": {
      "name": "noshowappointments_logging.ipynb",
      "provenance": [],
      "collapsed_sections": []
    },
    "kernelspec": {
      "name": "python3",
      "display_name": "Python 3"
    },
    "language_info": {
      "name": "python"
    },
    "nteract": {
      "version": "0.28.0"
    }
  },
  "nbformat": 4,
  "nbformat_minor": 0
}