{
 "cells": [
  {
   "cell_type": "code",
<<<<<<< HEAD
<<<<<<< HEAD
   "execution_count": 22,
   "metadata": {},
   "outputs": [
    {
     "data": {
      "text/plain": [
       "(3047, 13)"
      ]
     },
     "execution_count": 22,
     "metadata": {},
     "output_type": "execute_result"
    }
   ],
   "source": [
    "import pandas as pd\n",
    "import numpy as np\n",
    "import math\n",
    "df = pd.read_csv('data/shared_articles.csv')\n",
    "df =df[df['eventType'] == 'CONTENT SHARED']\n",
    "df.shape"
   ]
  },
  {
   "cell_type": "code",
   "execution_count": 23,
   "metadata": {},
   "outputs": [
    {
     "data": {
      "text/plain": [
       "1.24"
      ]
     },
     "execution_count": 23,
     "metadata": {},
     "output_type": "execute_result"
    }
   ],
   "source": [
    "df1 = pd.read_csv('data/users_interactions.csv')\n",
    "event_type_strength = {\n",
    "    'VIEW': 1.0,\n",
    "    'LIKE': 2.0, \n",
    "    'BOOKMARK': 2.5, \n",
    "    'FOLLOW': 3.0,\n",
    "    'COMMENT CREATED': 4.0,  \n",
    "}\n",
    " \n",
    "df1['eventStrength'] = df1.eventType.apply(lambda x: event_type_strength[x])\n",
    "round(df1['eventStrength'].mean(), 2)"
   ]
  },
  {
   "cell_type": "code",
   "execution_count": 24,
   "metadata": {},
   "outputs": [
    {
     "name": "stdout",
     "output_type": "stream",
     "text": [
      "1140\n"
     ]
    }
   ],
   "source": [
    "users_df = (\n",
    "    df1\n",
    "    .groupby(['personId', 'contentId'])\n",
    "    .first()\n",
    "    .reset_index()\n",
    "    .groupby('personId').size())\n",
    " \n",
    "users_5_df = users_df[users_df >= 5].reset_index()[['personId']]\n",
    "print(len(users_5_df))"
   ]
  },
  {
   "cell_type": "code",
   "execution_count": 25,
   "metadata": {},
   "outputs": [
    {
     "name": "stdout",
     "output_type": "stream",
     "text": [
      "(69868, 9)\n"
     ]
    }
   ],
   "source": [
    "int_from_users5_df = df1.loc[np.in1d(df1.personId,\n",
    "            users_5_df)] #этот метод используется, если мы хотим найти  пересечение двух одномерных массивов NumPy\n",
    "print(int_from_users5_df.shape)"
   ]
  },
  {
   "cell_type": "code",
   "execution_count": 26,
   "metadata": {},
   "outputs": [
    {
     "data": {
      "text/plain": [
       "1470605340.04"
      ]
     },
     "execution_count": 26,
     "metadata": {},
     "output_type": "execute_result"
    }
   ],
   "source": [
    "def smooth_user_preference(x):\n",
    "    return math.log(1+x, 2)\n",
    "\n",
    "full_df = (\n",
    "    int_from_users5_df\n",
    "    .groupby(['personId', 'contentId']).eventStrength.sum()\n",
    "    .apply(smooth_user_preference)\n",
    "    .reset_index().set_index(['personId', 'contentId'])\n",
    ")\n",
    "full_df['last_timestamp'] = (\n",
    "    int_from_users5_df\n",
    "    .groupby(['personId', 'contentId'])['timestamp'].max()\n",
    ")\n",
    "        \n",
    "round(full_df['last_timestamp'].mean(), 2)"
   ]
  },
  {
   "cell_type": "code",
   "execution_count": 27,
   "metadata": {},
   "outputs": [
    {
     "name": "stdout",
     "output_type": "stream",
     "text": [
      "29325\n"
     ]
    }
   ],
   "source": [
    "split_ts = 1475519545\n",
    "train_df = full_df.loc[full_df.last_timestamp < split_ts].copy()\n",
    "test_df = full_df.loc[full_df.last_timestamp >= split_ts].copy()\n",
    " \n",
    "print(len(train_df))"
   ]
  },
  {
   "cell_type": "code",
   "execution_count": 28,
   "metadata": {},
   "outputs": [],
   "source": [
    "final_df = (\n",
    "    train_df.reset_index()\n",
    "    .groupby('personId')['contentId'].agg(lambda x: list(x))\n",
    "    .reset_index()\n",
    "    .rename(columns={'contentId': 'true_train'})\n",
    "    .set_index('personId')\n",
    ")\n",
    "\n",
    "final_df['true_test'] = (\n",
    "    test_df.reset_index()\n",
    "    .groupby('personId')['contentId'].agg(lambda x: list(x))\n",
    ")\n",
    "\n",
    "final_df['true_test'] = [ [] if x is np.NaN else x for x in final_df['true_test'] ]"
   ]
  },
  {
   "cell_type": "code",
   "execution_count": 29,
   "metadata": {},
   "outputs": [
    {
     "data": {
      "text/plain": [
       "-6783772548752091658"
      ]
     },
     "execution_count": 29,
     "metadata": {},
     "output_type": "execute_result"
    }
   ],
   "source": [
    "popular = (\n",
    "    train_df\n",
    "    .groupby('contentId')\n",
    "    .eventStrength.sum().reset_index()\n",
    "    .sort_values('eventStrength', ascending=False)\n",
    "    .contentId.values\n",
    ")\n",
    "popular[0]"
   ]
  },
  {
   "cell_type": "code",
   "execution_count": 31,
   "metadata": {},
   "outputs": [
    {
     "data": {
      "text/plain": [
       "0.006"
      ]
     },
     "execution_count": 31,
     "metadata": {},
     "output_type": "execute_result"
    }
   ],
   "source": [
    "top_k = 10\n",
    " \n",
    "final_df['popular'] = (\n",
    "    final_df.true_train\n",
    "    .apply(\n",
    "        lambda x:\n",
    "        popular[~np.in1d(popular, x)][:top_k]\n",
    "    )\n",
    ")\n",
    "def calc_precision(column):\n",
    "    return (\n",
    "        final_df\n",
    "        .apply(\n",
    "            lambda row:\n",
    "            len(set(row['true_test']).intersection(\n",
    "                set(row[column]))) /\n",
    "            min(len(row['true_test']) + 0.001, 10.0),\n",
    "            axis=1)).mean()\n",
    "round(calc_precision('popular'), 3)"
=======
=======
>>>>>>> 6bf0e8f55d7312cc79cfb5381573d34917c1a421
   "execution_count": 4,
   "metadata": {},
   "outputs": [
    {
     "name": "stdout",
     "output_type": "stream",
     "text": [
      "0.97\n"
     ]
    }
   ],
   "source": [
    "from sklearn.metrics import ndcg_score, dcg_score\n",
    "import numpy as np\n",
    " \n",
    "true = np.asarray([[2, 4, 1, 1, 1]])\n",
    "relevance = np.asarray([[2, 5, 2, 3, 1]])\n",
    " \n",
    "print(round(ndcg_score(\n",
    "    true, relevance), 2))"
<<<<<<< HEAD
>>>>>>> 6bf0e8f55d7312cc79cfb5381573d34917c1a421
=======
>>>>>>> 6bf0e8f55d7312cc79cfb5381573d34917c1a421
   ]
  }
 ],
 "metadata": {
  "kernelspec": {
   "display_name": "Python 3",
   "language": "python",
   "name": "python3"
  },
  "language_info": {
   "codemirror_mode": {
    "name": "ipython",
    "version": 3
   },
   "file_extension": ".py",
   "mimetype": "text/x-python",
   "name": "python",
   "nbconvert_exporter": "python",
   "pygments_lexer": "ipython3",
   "version": "3.10.6"
  },
  "orig_nbformat": 4
 },
 "nbformat": 4,
 "nbformat_minor": 2
}
