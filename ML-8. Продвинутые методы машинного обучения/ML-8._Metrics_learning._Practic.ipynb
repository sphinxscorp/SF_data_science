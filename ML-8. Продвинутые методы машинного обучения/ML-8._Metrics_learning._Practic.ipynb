{
 "cells": [
  {
   "cell_type": "markdown",
   "metadata": {
    "id": "a3YKMUpgSmtW"
   },
   "source": [
    "# Metrics learning. Практика."
   ]
  },
  {
   "cell_type": "markdown",
   "metadata": {
    "id": "YLED39aLmZzT"
   },
   "source": [
    "В данном задании нам предстоит кластеризовать клиентов банка по характеру финансового поведения с продуктом банка (кредитная карта). "
   ]
  },
  {
   "cell_type": "markdown",
   "metadata": {
    "id": "j6IddiYamZzX"
   },
   "source": [
    "## Загрузим необходимые данные и библиотеки"
   ]
  },
  {
   "cell_type": "code",
   "execution_count": 1,
   "metadata": {
    "_cell_guid": "b1076dfc-b9ad-4769-8c92-a6c4dae69d19",
    "_uuid": "8f2839f25d086af736a60e9eeb907d3b93b6e0e5",
    "id": "zoRu9Fc-mZzY",
    "tags": []
   },
   "outputs": [],
   "source": [
    "import numpy as np \n",
    "import pandas as pd \n",
    "import matplotlib.pyplot as plt\n",
    "import seaborn as sns\n",
    "from sklearn.preprocessing import StandardScaler\n",
    "from sklearn.cluster import KMeans\n",
    "from sklearn.decomposition import PCA\n",
    "from sklearn.metrics.pairwise import cosine_similarity\n",
    "\n",
    "import warnings\n",
    "warnings.filterwarnings(action=\"ignore\")"
   ]
  },
  {
   "cell_type": "code",
   "execution_count": 2,
   "metadata": {
    "id": "IYdTHLyhmZzZ",
    "tags": []
   },
   "outputs": [
    {
     "name": "stdout",
     "output_type": "stream",
     "text": [
      "(8950, 18)\n"
     ]
    },
    {
     "data": {
      "text/html": [
       "<div>\n",
       "<style scoped>\n",
       "    .dataframe tbody tr th:only-of-type {\n",
       "        vertical-align: middle;\n",
       "    }\n",
       "\n",
       "    .dataframe tbody tr th {\n",
       "        vertical-align: top;\n",
       "    }\n",
       "\n",
       "    .dataframe thead th {\n",
       "        text-align: right;\n",
       "    }\n",
       "</style>\n",
       "<table border=\"1\" class=\"dataframe\">\n",
       "  <thead>\n",
       "    <tr style=\"text-align: right;\">\n",
       "      <th></th>\n",
       "      <th>CUST_ID</th>\n",
       "      <th>BALANCE</th>\n",
       "      <th>BALANCE_FREQUENCY</th>\n",
       "      <th>PURCHASES</th>\n",
       "      <th>ONEOFF_PURCHASES</th>\n",
       "      <th>INSTALLMENTS_PURCHASES</th>\n",
       "      <th>CASH_ADVANCE</th>\n",
       "      <th>PURCHASES_FREQUENCY</th>\n",
       "      <th>ONEOFF_PURCHASES_FREQUENCY</th>\n",
       "      <th>PURCHASES_INSTALLMENTS_FREQUENCY</th>\n",
       "      <th>CASH_ADVANCE_FREQUENCY</th>\n",
       "      <th>CASH_ADVANCE_TRX</th>\n",
       "      <th>PURCHASES_TRX</th>\n",
       "      <th>CREDIT_LIMIT</th>\n",
       "      <th>PAYMENTS</th>\n",
       "      <th>MINIMUM_PAYMENTS</th>\n",
       "      <th>PRC_FULL_PAYMENT</th>\n",
       "      <th>TENURE</th>\n",
       "    </tr>\n",
       "  </thead>\n",
       "  <tbody>\n",
       "    <tr>\n",
       "      <th>0</th>\n",
       "      <td>C10001</td>\n",
       "      <td>40.900749</td>\n",
       "      <td>0.818182</td>\n",
       "      <td>95.40</td>\n",
       "      <td>0.00</td>\n",
       "      <td>95.4</td>\n",
       "      <td>0.000000</td>\n",
       "      <td>0.166667</td>\n",
       "      <td>0.000000</td>\n",
       "      <td>0.083333</td>\n",
       "      <td>0.000000</td>\n",
       "      <td>0</td>\n",
       "      <td>2</td>\n",
       "      <td>1000.0</td>\n",
       "      <td>201.802084</td>\n",
       "      <td>139.509787</td>\n",
       "      <td>0.000000</td>\n",
       "      <td>12</td>\n",
       "    </tr>\n",
       "    <tr>\n",
       "      <th>1</th>\n",
       "      <td>C10002</td>\n",
       "      <td>3202.467416</td>\n",
       "      <td>0.909091</td>\n",
       "      <td>0.00</td>\n",
       "      <td>0.00</td>\n",
       "      <td>0.0</td>\n",
       "      <td>6442.945483</td>\n",
       "      <td>0.000000</td>\n",
       "      <td>0.000000</td>\n",
       "      <td>0.000000</td>\n",
       "      <td>0.250000</td>\n",
       "      <td>4</td>\n",
       "      <td>0</td>\n",
       "      <td>7000.0</td>\n",
       "      <td>4103.032597</td>\n",
       "      <td>1072.340217</td>\n",
       "      <td>0.222222</td>\n",
       "      <td>12</td>\n",
       "    </tr>\n",
       "    <tr>\n",
       "      <th>2</th>\n",
       "      <td>C10003</td>\n",
       "      <td>2495.148862</td>\n",
       "      <td>1.000000</td>\n",
       "      <td>773.17</td>\n",
       "      <td>773.17</td>\n",
       "      <td>0.0</td>\n",
       "      <td>0.000000</td>\n",
       "      <td>1.000000</td>\n",
       "      <td>1.000000</td>\n",
       "      <td>0.000000</td>\n",
       "      <td>0.000000</td>\n",
       "      <td>0</td>\n",
       "      <td>12</td>\n",
       "      <td>7500.0</td>\n",
       "      <td>622.066742</td>\n",
       "      <td>627.284787</td>\n",
       "      <td>0.000000</td>\n",
       "      <td>12</td>\n",
       "    </tr>\n",
       "    <tr>\n",
       "      <th>3</th>\n",
       "      <td>C10004</td>\n",
       "      <td>1666.670542</td>\n",
       "      <td>0.636364</td>\n",
       "      <td>1499.00</td>\n",
       "      <td>1499.00</td>\n",
       "      <td>0.0</td>\n",
       "      <td>205.788017</td>\n",
       "      <td>0.083333</td>\n",
       "      <td>0.083333</td>\n",
       "      <td>0.000000</td>\n",
       "      <td>0.083333</td>\n",
       "      <td>1</td>\n",
       "      <td>1</td>\n",
       "      <td>7500.0</td>\n",
       "      <td>0.000000</td>\n",
       "      <td>NaN</td>\n",
       "      <td>0.000000</td>\n",
       "      <td>12</td>\n",
       "    </tr>\n",
       "    <tr>\n",
       "      <th>4</th>\n",
       "      <td>C10005</td>\n",
       "      <td>817.714335</td>\n",
       "      <td>1.000000</td>\n",
       "      <td>16.00</td>\n",
       "      <td>16.00</td>\n",
       "      <td>0.0</td>\n",
       "      <td>0.000000</td>\n",
       "      <td>0.083333</td>\n",
       "      <td>0.083333</td>\n",
       "      <td>0.000000</td>\n",
       "      <td>0.000000</td>\n",
       "      <td>0</td>\n",
       "      <td>1</td>\n",
       "      <td>1200.0</td>\n",
       "      <td>678.334763</td>\n",
       "      <td>244.791237</td>\n",
       "      <td>0.000000</td>\n",
       "      <td>12</td>\n",
       "    </tr>\n",
       "  </tbody>\n",
       "</table>\n",
       "</div>"
      ],
      "text/plain": [
       "  CUST_ID      BALANCE  BALANCE_FREQUENCY  PURCHASES  ONEOFF_PURCHASES  \\\n",
       "0  C10001    40.900749           0.818182      95.40              0.00   \n",
       "1  C10002  3202.467416           0.909091       0.00              0.00   \n",
       "2  C10003  2495.148862           1.000000     773.17            773.17   \n",
       "3  C10004  1666.670542           0.636364    1499.00           1499.00   \n",
       "4  C10005   817.714335           1.000000      16.00             16.00   \n",
       "\n",
       "   INSTALLMENTS_PURCHASES  CASH_ADVANCE  PURCHASES_FREQUENCY  \\\n",
       "0                    95.4      0.000000             0.166667   \n",
       "1                     0.0   6442.945483             0.000000   \n",
       "2                     0.0      0.000000             1.000000   \n",
       "3                     0.0    205.788017             0.083333   \n",
       "4                     0.0      0.000000             0.083333   \n",
       "\n",
       "   ONEOFF_PURCHASES_FREQUENCY  PURCHASES_INSTALLMENTS_FREQUENCY  \\\n",
       "0                    0.000000                          0.083333   \n",
       "1                    0.000000                          0.000000   \n",
       "2                    1.000000                          0.000000   \n",
       "3                    0.083333                          0.000000   \n",
       "4                    0.083333                          0.000000   \n",
       "\n",
       "   CASH_ADVANCE_FREQUENCY  CASH_ADVANCE_TRX  PURCHASES_TRX  CREDIT_LIMIT  \\\n",
       "0                0.000000                 0              2        1000.0   \n",
       "1                0.250000                 4              0        7000.0   \n",
       "2                0.000000                 0             12        7500.0   \n",
       "3                0.083333                 1              1        7500.0   \n",
       "4                0.000000                 0              1        1200.0   \n",
       "\n",
       "      PAYMENTS  MINIMUM_PAYMENTS  PRC_FULL_PAYMENT  TENURE  \n",
       "0   201.802084        139.509787          0.000000      12  \n",
       "1  4103.032597       1072.340217          0.222222      12  \n",
       "2   622.066742        627.284787          0.000000      12  \n",
       "3     0.000000               NaN          0.000000      12  \n",
       "4   678.334763        244.791237          0.000000      12  "
      ]
     },
     "execution_count": 2,
     "metadata": {},
     "output_type": "execute_result"
    }
   ],
   "source": [
    "data= pd.read_csv(\"data/CC GENERAL.csv\")\n",
    "print(data.shape)\n",
    "data.head()"
   ]
  },
  {
   "cell_type": "markdown",
   "metadata": {
    "id": "yysmOJ4EmZza"
   },
   "source": [
    "## Обработка данных"
   ]
  },
  {
   "cell_type": "markdown",
   "metadata": {
    "id": "wTrNgt7KmZzb"
   },
   "source": [
    "Посмотрим на статистики, вызвав метод desribe."
   ]
  },
  {
   "cell_type": "code",
   "execution_count": 3,
   "metadata": {
    "id": "Isv_LyFFmZzb",
    "tags": []
   },
   "outputs": [
    {
     "data": {
      "text/html": [
       "<div>\n",
       "<style scoped>\n",
       "    .dataframe tbody tr th:only-of-type {\n",
       "        vertical-align: middle;\n",
       "    }\n",
       "\n",
       "    .dataframe tbody tr th {\n",
       "        vertical-align: top;\n",
       "    }\n",
       "\n",
       "    .dataframe thead th {\n",
       "        text-align: right;\n",
       "    }\n",
       "</style>\n",
       "<table border=\"1\" class=\"dataframe\">\n",
       "  <thead>\n",
       "    <tr style=\"text-align: right;\">\n",
       "      <th></th>\n",
       "      <th>BALANCE</th>\n",
       "      <th>BALANCE_FREQUENCY</th>\n",
       "      <th>PURCHASES</th>\n",
       "      <th>ONEOFF_PURCHASES</th>\n",
       "      <th>INSTALLMENTS_PURCHASES</th>\n",
       "      <th>CASH_ADVANCE</th>\n",
       "      <th>PURCHASES_FREQUENCY</th>\n",
       "      <th>ONEOFF_PURCHASES_FREQUENCY</th>\n",
       "      <th>PURCHASES_INSTALLMENTS_FREQUENCY</th>\n",
       "      <th>CASH_ADVANCE_FREQUENCY</th>\n",
       "      <th>CASH_ADVANCE_TRX</th>\n",
       "      <th>PURCHASES_TRX</th>\n",
       "      <th>CREDIT_LIMIT</th>\n",
       "      <th>PAYMENTS</th>\n",
       "      <th>MINIMUM_PAYMENTS</th>\n",
       "      <th>PRC_FULL_PAYMENT</th>\n",
       "      <th>TENURE</th>\n",
       "    </tr>\n",
       "  </thead>\n",
       "  <tbody>\n",
       "    <tr>\n",
       "      <th>count</th>\n",
       "      <td>8950.000000</td>\n",
       "      <td>8950.000000</td>\n",
       "      <td>8950.000000</td>\n",
       "      <td>8950.000000</td>\n",
       "      <td>8950.000000</td>\n",
       "      <td>8950.000000</td>\n",
       "      <td>8950.000000</td>\n",
       "      <td>8950.000000</td>\n",
       "      <td>8950.000000</td>\n",
       "      <td>8950.000000</td>\n",
       "      <td>8950.000000</td>\n",
       "      <td>8950.000000</td>\n",
       "      <td>8949.000000</td>\n",
       "      <td>8950.000000</td>\n",
       "      <td>8637.000000</td>\n",
       "      <td>8950.000000</td>\n",
       "      <td>8950.000000</td>\n",
       "    </tr>\n",
       "    <tr>\n",
       "      <th>mean</th>\n",
       "      <td>1564.474828</td>\n",
       "      <td>0.877271</td>\n",
       "      <td>1003.204834</td>\n",
       "      <td>592.437371</td>\n",
       "      <td>411.067645</td>\n",
       "      <td>978.871112</td>\n",
       "      <td>0.490351</td>\n",
       "      <td>0.202458</td>\n",
       "      <td>0.364437</td>\n",
       "      <td>0.135144</td>\n",
       "      <td>3.248827</td>\n",
       "      <td>14.709832</td>\n",
       "      <td>4494.449450</td>\n",
       "      <td>1733.143852</td>\n",
       "      <td>864.206542</td>\n",
       "      <td>0.153715</td>\n",
       "      <td>11.517318</td>\n",
       "    </tr>\n",
       "    <tr>\n",
       "      <th>std</th>\n",
       "      <td>2081.531879</td>\n",
       "      <td>0.236904</td>\n",
       "      <td>2136.634782</td>\n",
       "      <td>1659.887917</td>\n",
       "      <td>904.338115</td>\n",
       "      <td>2097.163877</td>\n",
       "      <td>0.401371</td>\n",
       "      <td>0.298336</td>\n",
       "      <td>0.397448</td>\n",
       "      <td>0.200121</td>\n",
       "      <td>6.824647</td>\n",
       "      <td>24.857649</td>\n",
       "      <td>3638.815725</td>\n",
       "      <td>2895.063757</td>\n",
       "      <td>2372.446607</td>\n",
       "      <td>0.292499</td>\n",
       "      <td>1.338331</td>\n",
       "    </tr>\n",
       "    <tr>\n",
       "      <th>min</th>\n",
       "      <td>0.000000</td>\n",
       "      <td>0.000000</td>\n",
       "      <td>0.000000</td>\n",
       "      <td>0.000000</td>\n",
       "      <td>0.000000</td>\n",
       "      <td>0.000000</td>\n",
       "      <td>0.000000</td>\n",
       "      <td>0.000000</td>\n",
       "      <td>0.000000</td>\n",
       "      <td>0.000000</td>\n",
       "      <td>0.000000</td>\n",
       "      <td>0.000000</td>\n",
       "      <td>50.000000</td>\n",
       "      <td>0.000000</td>\n",
       "      <td>0.019163</td>\n",
       "      <td>0.000000</td>\n",
       "      <td>6.000000</td>\n",
       "    </tr>\n",
       "    <tr>\n",
       "      <th>25%</th>\n",
       "      <td>128.281915</td>\n",
       "      <td>0.888889</td>\n",
       "      <td>39.635000</td>\n",
       "      <td>0.000000</td>\n",
       "      <td>0.000000</td>\n",
       "      <td>0.000000</td>\n",
       "      <td>0.083333</td>\n",
       "      <td>0.000000</td>\n",
       "      <td>0.000000</td>\n",
       "      <td>0.000000</td>\n",
       "      <td>0.000000</td>\n",
       "      <td>1.000000</td>\n",
       "      <td>1600.000000</td>\n",
       "      <td>383.276166</td>\n",
       "      <td>169.123707</td>\n",
       "      <td>0.000000</td>\n",
       "      <td>12.000000</td>\n",
       "    </tr>\n",
       "    <tr>\n",
       "      <th>50%</th>\n",
       "      <td>873.385231</td>\n",
       "      <td>1.000000</td>\n",
       "      <td>361.280000</td>\n",
       "      <td>38.000000</td>\n",
       "      <td>89.000000</td>\n",
       "      <td>0.000000</td>\n",
       "      <td>0.500000</td>\n",
       "      <td>0.083333</td>\n",
       "      <td>0.166667</td>\n",
       "      <td>0.000000</td>\n",
       "      <td>0.000000</td>\n",
       "      <td>7.000000</td>\n",
       "      <td>3000.000000</td>\n",
       "      <td>856.901546</td>\n",
       "      <td>312.343947</td>\n",
       "      <td>0.000000</td>\n",
       "      <td>12.000000</td>\n",
       "    </tr>\n",
       "    <tr>\n",
       "      <th>75%</th>\n",
       "      <td>2054.140036</td>\n",
       "      <td>1.000000</td>\n",
       "      <td>1110.130000</td>\n",
       "      <td>577.405000</td>\n",
       "      <td>468.637500</td>\n",
       "      <td>1113.821139</td>\n",
       "      <td>0.916667</td>\n",
       "      <td>0.300000</td>\n",
       "      <td>0.750000</td>\n",
       "      <td>0.222222</td>\n",
       "      <td>4.000000</td>\n",
       "      <td>17.000000</td>\n",
       "      <td>6500.000000</td>\n",
       "      <td>1901.134317</td>\n",
       "      <td>825.485459</td>\n",
       "      <td>0.142857</td>\n",
       "      <td>12.000000</td>\n",
       "    </tr>\n",
       "    <tr>\n",
       "      <th>max</th>\n",
       "      <td>19043.138560</td>\n",
       "      <td>1.000000</td>\n",
       "      <td>49039.570000</td>\n",
       "      <td>40761.250000</td>\n",
       "      <td>22500.000000</td>\n",
       "      <td>47137.211760</td>\n",
       "      <td>1.000000</td>\n",
       "      <td>1.000000</td>\n",
       "      <td>1.000000</td>\n",
       "      <td>1.500000</td>\n",
       "      <td>123.000000</td>\n",
       "      <td>358.000000</td>\n",
       "      <td>30000.000000</td>\n",
       "      <td>50721.483360</td>\n",
       "      <td>76406.207520</td>\n",
       "      <td>1.000000</td>\n",
       "      <td>12.000000</td>\n",
       "    </tr>\n",
       "  </tbody>\n",
       "</table>\n",
       "</div>"
      ],
      "text/plain": [
       "            BALANCE  BALANCE_FREQUENCY     PURCHASES  ONEOFF_PURCHASES  \\\n",
       "count   8950.000000        8950.000000   8950.000000       8950.000000   \n",
       "mean    1564.474828           0.877271   1003.204834        592.437371   \n",
       "std     2081.531879           0.236904   2136.634782       1659.887917   \n",
       "min        0.000000           0.000000      0.000000          0.000000   \n",
       "25%      128.281915           0.888889     39.635000          0.000000   \n",
       "50%      873.385231           1.000000    361.280000         38.000000   \n",
       "75%     2054.140036           1.000000   1110.130000        577.405000   \n",
       "max    19043.138560           1.000000  49039.570000      40761.250000   \n",
       "\n",
       "       INSTALLMENTS_PURCHASES  CASH_ADVANCE  PURCHASES_FREQUENCY  \\\n",
       "count             8950.000000   8950.000000          8950.000000   \n",
       "mean               411.067645    978.871112             0.490351   \n",
       "std                904.338115   2097.163877             0.401371   \n",
       "min                  0.000000      0.000000             0.000000   \n",
       "25%                  0.000000      0.000000             0.083333   \n",
       "50%                 89.000000      0.000000             0.500000   \n",
       "75%                468.637500   1113.821139             0.916667   \n",
       "max              22500.000000  47137.211760             1.000000   \n",
       "\n",
       "       ONEOFF_PURCHASES_FREQUENCY  PURCHASES_INSTALLMENTS_FREQUENCY  \\\n",
       "count                 8950.000000                       8950.000000   \n",
       "mean                     0.202458                          0.364437   \n",
       "std                      0.298336                          0.397448   \n",
       "min                      0.000000                          0.000000   \n",
       "25%                      0.000000                          0.000000   \n",
       "50%                      0.083333                          0.166667   \n",
       "75%                      0.300000                          0.750000   \n",
       "max                      1.000000                          1.000000   \n",
       "\n",
       "       CASH_ADVANCE_FREQUENCY  CASH_ADVANCE_TRX  PURCHASES_TRX  CREDIT_LIMIT  \\\n",
       "count             8950.000000       8950.000000    8950.000000   8949.000000   \n",
       "mean                 0.135144          3.248827      14.709832   4494.449450   \n",
       "std                  0.200121          6.824647      24.857649   3638.815725   \n",
       "min                  0.000000          0.000000       0.000000     50.000000   \n",
       "25%                  0.000000          0.000000       1.000000   1600.000000   \n",
       "50%                  0.000000          0.000000       7.000000   3000.000000   \n",
       "75%                  0.222222          4.000000      17.000000   6500.000000   \n",
       "max                  1.500000        123.000000     358.000000  30000.000000   \n",
       "\n",
       "           PAYMENTS  MINIMUM_PAYMENTS  PRC_FULL_PAYMENT       TENURE  \n",
       "count   8950.000000       8637.000000       8950.000000  8950.000000  \n",
       "mean    1733.143852        864.206542          0.153715    11.517318  \n",
       "std     2895.063757       2372.446607          0.292499     1.338331  \n",
       "min        0.000000          0.019163          0.000000     6.000000  \n",
       "25%      383.276166        169.123707          0.000000    12.000000  \n",
       "50%      856.901546        312.343947          0.000000    12.000000  \n",
       "75%     1901.134317        825.485459          0.142857    12.000000  \n",
       "max    50721.483360      76406.207520          1.000000    12.000000  "
      ]
     },
     "execution_count": 3,
     "metadata": {},
     "output_type": "execute_result"
    }
   ],
   "source": [
    "data.describe()"
   ]
  },
  {
   "cell_type": "markdown",
   "metadata": {
    "id": "8OgaL3kFmZzc"
   },
   "source": [
    "Видим много выбросов, постараемся избавится от них, сделав диапазоны значений для различных колонок."
   ]
  },
  {
   "cell_type": "markdown",
   "metadata": {
    "id": "0xD-42RlmZzc"
   },
   "source": [
    "## Работа с пропусками"
   ]
  },
  {
   "cell_type": "markdown",
   "metadata": {
    "id": "HQLQG2mbmZzd"
   },
   "source": [
    "### Задание 8.1\n",
    "Выведите количество пропусков. количество пропусков в признаке `MINIMUM_PAYMENTS` используйте как ответ на задание 8.1"
   ]
  },
  {
   "cell_type": "code",
   "execution_count": null,
   "metadata": {
    "id": "5ekZ7h8lmZzd",
    "tags": []
   },
   "outputs": [],
   "source": [
    "#Ваш код здесь"
   ]
  },
  {
   "cell_type": "markdown",
   "metadata": {
    "id": "3DWQHYA8mZze"
   },
   "source": [
    "Заполните значения `MINIMUM_PAYMENTS`, `CREDIT_LIMIT` средним значением:"
   ]
  },
  {
   "cell_type": "code",
   "execution_count": null,
   "metadata": {
    "id": "8zdpaLermZze",
    "tags": []
   },
   "outputs": [],
   "source": [
    "data.loc[(data['MINIMUM_PAYMENTS'].isnull()==True),'MINIMUM_PAYMENTS']=data['MINIMUM_PAYMENTS'].mean() # ваш код здесь  \n",
    "data.loc[(data['CREDIT_LIMIT'].isnull()==True),'CREDIT_LIMIT']= data['CREDIT_LIMIT'].mean() #ваш код "
   ]
  },
  {
   "cell_type": "markdown",
   "metadata": {
    "id": "c0VDfsuBmZze"
   },
   "source": [
    "Проверим еще раз, что пропусков более нет"
   ]
  },
  {
   "cell_type": "code",
   "execution_count": null,
   "metadata": {
    "id": "rhGBjzDlmZzf",
    "tags": []
   },
   "outputs": [],
   "source": [
    "# ваш код здесь"
   ]
  },
  {
   "cell_type": "markdown",
   "metadata": {
    "id": "M3BW-gS_mZzf"
   },
   "source": [
    "\n",
    "## Работа с выбросами\n",
    "\n",
    "Для работы с выбросами сделаем диапазоновые значения признаков, для этого будем использовать функцию"
   ]
  },
  {
   "cell_type": "code",
   "execution_count": null,
   "metadata": {
    "id": "tv-QmzGdmZzf",
    "tags": []
   },
   "outputs": [],
   "source": [
    "def add_range(df, columns, range_list, onesided = True):\n",
    "    for column in columns:\n",
    "        name = column + '_range'\n",
    "        df[name] = 0\n",
    "        for i in range(len(range_list)-1):\n",
    "            df.loc[(df[column] > range_list[i])&(df[column] <= range_list[i+1]), name] = i+1\n",
    "            if onesided:\n",
    "                df.loc[(df[column] >range_list[-1]), name] = len(range_list)\n",
    "    df.drop(columns, axis = 1, inplace = True)"
   ]
  },
  {
   "cell_type": "code",
   "execution_count": null,
   "metadata": {
    "id": "mdK6AcjPmZzg",
    "tags": []
   },
   "outputs": [],
   "source": [
    "add_range(data,['BALANCE', 'PURCHASES', 'ONEOFF_PURCHASES', 'INSTALLMENTS_PURCHASES', 'CASH_ADVANCE', 'CREDIT_LIMIT',\n",
    "        'PAYMENTS', 'MINIMUM_PAYMENTS'], [0,500,1000,3000,5000,10000])"
   ]
  },
  {
   "cell_type": "code",
   "execution_count": null,
   "metadata": {
    "id": "mLQXdjoXmZzg",
    "tags": []
   },
   "outputs": [],
   "source": [
    "add_range(data,['BALANCE_FREQUENCY', 'PURCHASES_FREQUENCY', 'ONEOFF_PURCHASES_FREQUENCY', 'PURCHASES_INSTALLMENTS_FREQUENCY', \n",
    "         'CASH_ADVANCE_FREQUENCY', 'PRC_FULL_PAYMENT'] , np.linspace(0,1,11),onesided=False)"
   ]
  },
  {
   "cell_type": "code",
   "execution_count": null,
   "metadata": {
    "id": "omuCFv8TmZzg",
    "tags": []
   },
   "outputs": [],
   "source": [
    "add_range(data,['PURCHASES_TRX', 'CASH_ADVANCE_TRX'] ,[0,5,10,15,20,30,50,100] ,onesided=False)"
   ]
  },
  {
   "cell_type": "code",
   "execution_count": null,
   "metadata": {
    "id": "jumkU29LmZzh",
    "tags": []
   },
   "outputs": [],
   "source": [
    "data.drop(['CUST_ID'], axis=1, inplace=True)\n",
    "\n",
    "X= np.asarray(data)"
   ]
  },
  {
   "cell_type": "markdown",
   "metadata": {
    "id": "t86RFcxFmZzh"
   },
   "source": [
    "### Стандартизация данных"
   ]
  },
  {
   "cell_type": "code",
   "execution_count": null,
   "metadata": {
    "id": "Idz-FOfXmZzh",
    "tags": []
   },
   "outputs": [],
   "source": [
    "scale = StandardScaler()\n",
    "X = scale.fit_transform(X)\n",
    "X.shape"
   ]
  },
  {
   "cell_type": "markdown",
   "metadata": {
    "id": "XGWFRngHmZzh"
   },
   "source": [
    "Определимся с количеством кластеров"
   ]
  },
  {
   "cell_type": "markdown",
   "metadata": {
    "id": "vhMNKVgwmZzi"
   },
   "source": [
    "### Задание 8.2\n",
    "Используя `KElbowVisualizer` из модуля `yellowbrick.cluster` определите оптимальное количество кластеров. Для этого на вход `KElbowVisualizer` подайте модель `Kmeans`, максимальное количество кластеров следует ограничить до `k=20`. Ответом на задание является количество кластеров. "
   ]
  },
  {
   "cell_type": "code",
   "execution_count": null,
   "metadata": {
    "id": "Bs_PacMOmZzi"
   },
   "outputs": [],
   "source": [
    "from yellowbrick.cluster import KElbowVisualizer\n",
    "\n",
    "#ваш код"
   ]
  },
  {
   "cell_type": "markdown",
   "metadata": {
    "id": "SHeCixQ0mZzi"
   },
   "source": [
    "Для корректной работы в дальнейшем предлагается внести ответ в качестве переменной"
   ]
  },
  {
   "cell_type": "code",
   "execution_count": null,
   "metadata": {
    "id": "nrRHGVdzmZzi",
    "tags": []
   },
   "outputs": [],
   "source": [
    "k_clust = # сюда вставить ответ на задачу 8.2"
   ]
  },
  {
   "cell_type": "markdown",
   "metadata": {
    "id": "1AdB_YbkmZzj"
   },
   "source": [
    "## Кластеризация"
   ]
  },
  {
   "cell_type": "markdown",
   "metadata": {
    "id": "m9QxdnPZmZzj"
   },
   "source": [
    "Обучите модель `Kmeans`с количеством кластеров, полученном в задании 6.2, с помощью метода"
   ]
  },
  {
   "cell_type": "code",
   "execution_count": null,
   "metadata": {
    "id": "2OMRiVFGmZzj",
    "tags": []
   },
   "outputs": [],
   "source": [
    "kmean= KMeans(k_clust)\n",
    "kmean.fit(X) \n",
    "labels=kmean.labels_"
   ]
  },
  {
   "cell_type": "code",
   "execution_count": null,
   "metadata": {
    "id": "auwdxvL6mZzj",
    "tags": []
   },
   "outputs": [],
   "source": [
    "clusters=pd.concat([data, pd.DataFrame({'cluster':labels})], axis=1)\n",
    "clusters.head()"
   ]
  },
  {
   "cell_type": "markdown",
   "metadata": {
    "id": "WuOsw3xkmZzj"
   },
   "source": [
    "## Анализ результатов кластеризации"
   ]
  },
  {
   "cell_type": "code",
   "execution_count": null,
   "metadata": {
    "id": "V_3rBuPCmZzj",
    "tags": []
   },
   "outputs": [],
   "source": [
    "#раскомментируйте код для получения информации о распределениях признаков для каждого кластера\n",
    "# for c in clusters:\n",
    "#     grid= sns.FacetGrid(clusters, col='cluster')\n",
    "#     grid.map(plt.hist, c)"
   ]
  },
  {
   "cell_type": "markdown",
   "metadata": {
    "id": "11SwzmglmZzj"
   },
   "source": [
    "#### Место для ваших выводов"
   ]
  },
  {
   "cell_type": "markdown",
   "metadata": {
    "id": "uHxf5eLamZzk"
   },
   "source": [
    "Визуализируем кластеры, предварительно уменьшив разменость с помощью PCA до 2-х\n"
   ]
  },
  {
   "cell_type": "code",
   "execution_count": null,
   "metadata": {
    "id": "SJDHvG0ymZzk",
    "tags": []
   },
   "outputs": [],
   "source": [
    "pca = PCA(2)\n",
    "pca.fit(X)\n",
    "X_PCA = pca.transform(X)\n",
    "X_PCA.shape"
   ]
  },
  {
   "cell_type": "markdown",
   "metadata": {
    "id": "CI9CtnWdmZzk"
   },
   "source": [
    "### Задача 8.3 \n",
    "C помощью атрибута `explained_variance_ratio_` выведите процент объясненной дисперсии по обоим из осей. В качестве ответа внесите максимальное значение, округленное до десятых."
   ]
  },
  {
   "cell_type": "code",
   "execution_count": null,
   "metadata": {
    "id": "LGWYcts8mZzk"
   },
   "outputs": [],
   "source": [
    "# ваш код здесь"
   ]
  },
  {
   "cell_type": "code",
   "execution_count": null,
   "metadata": {
    "id": "Uv21FS4ZmZzk",
    "tags": []
   },
   "outputs": [],
   "source": [
    "x, y = X_PCA[:, 0], X_PCA[:, 1]\n",
    "\n",
    "colors = {0: 'red',\n",
    "          1: 'blue',\n",
    "          2: 'green', \n",
    "          3: 'yellow', \n",
    "          4: 'orange',  \n",
    "          5:'purple',\n",
    "          6:'fuchsia',\n",
    "          7:'pink'}\n",
    "\n",
    "names = {i: f'cluster {i+1}' for i in range(k_clust)}\n",
    "  \n",
    "df = pd.DataFrame({'x': x, 'y':y, 'label':labels}) \n",
    "groups = df.groupby('label')\n",
    "\n",
    "fig, ax = plt.subplots(figsize=(20, 13)) \n",
    "\n",
    "for name, group in groups:\n",
    "    ax.plot(group.x, group.y, marker='o', linestyle='', ms=5,\n",
    "            color=colors[name],label=names[name], mec='none')\n",
    "    ax.set_aspect('auto')\n",
    "    ax.tick_params(axis='x',which='both',bottom='off',top='off',labelbottom='off')\n",
    "    ax.tick_params(axis= 'y',which='both',left='off',top='off',labelleft='off')\n",
    "    \n",
    "ax.legend()\n",
    "ax.set_title(\"Customers Segmentation based on their Credit Card usage bhaviour.\")\n",
    "plt.show()"
   ]
  },
  {
   "cell_type": "markdown",
   "metadata": {
    "id": "Zz2pncUXmZzl"
   },
   "source": [
    "Как мы видим, результат достаточно неочевидный, для более красивой визуализации вычислим косинусоидальное расстояние от исходных данных и применим к ним PCA."
   ]
  },
  {
   "cell_type": "markdown",
   "metadata": {
    "id": "9nPhBZcFmZzl"
   },
   "source": [
    "Напомним, что косинусоидальное расстояние имеет вид: $$1 - \\frac{u  v}{||u||_2||v||_2}$$\n",
    "В модуле `sklearn.metrics.pairwise` реализовано вычитаемое в данной разнице в функции `cosine_similarity` предлагается реализовать функцию `cos_dist`косинусоидального расстояния на основе данной встроенной функции."
   ]
  },
  {
   "cell_type": "code",
   "execution_count": null,
   "metadata": {
    "id": "RL5Ps79ymZzl",
    "tags": []
   },
   "outputs": [],
   "source": [
    "def cos_dist(X):\n",
    "     return 1 - cosine_similarity(X) # здесь реализация"
   ]
  },
  {
   "cell_type": "code",
   "execution_count": null,
   "metadata": {
    "id": "na_J4pC6mZzl",
    "tags": []
   },
   "outputs": [],
   "source": [
    "dist =cos_dist(X)\n",
    "\n",
    "pca = PCA(2)\n",
    "pca.fit(dist)\n",
    "X_PCA = pca.transform(dist)\n",
    "X_PCA.shape"
   ]
  },
  {
   "cell_type": "markdown",
   "metadata": {
    "id": "9ubao6FFmZzl"
   },
   "source": [
    "### Задача 8.4 \n",
    "С помощью атрибута `explained_variance_ratio_` выведите процент объясненной дисперсии по обоим из осей после применения **косинусоидального значения**. В качестве ответа внесите максимальное значение, округленное до десятых."
   ]
  },
  {
   "cell_type": "code",
   "execution_count": null,
   "metadata": {
    "id": "vmgChYy2mZzl"
   },
   "outputs": [],
   "source": [
    "#ваш код"
   ]
  },
  {
   "cell_type": "code",
   "execution_count": null,
   "metadata": {
    "id": "Y0tOhKYvmZzl"
   },
   "outputs": [],
   "source": [
    "x, y = X_PCA[:, 0], X_PCA[:, 1]\n",
    "\n",
    "colors = {0: 'red',\n",
    "          1: 'blue',\n",
    "          2: 'green', \n",
    "          3: 'yellow', \n",
    "          4: 'orange',  \n",
    "          5:'purple',\n",
    "          6:'fuchsia',\n",
    "          7:'pink'}\n",
    "\n",
    "names = {i: f'cluster {i+1}' for i in range(k_clust)}\n",
    "  \n",
    "df = pd.DataFrame({'x': x, 'y':y, 'label':labels}) \n",
    "groups = df.groupby('label')\n",
    "fig, ax = plt.subplots(figsize=(20, 13)) \n",
    "\n",
    "for name, group in groups:\n",
    "    ax.plot(group.x, group.y, marker='o', linestyle='', ms=5,\n",
    "            color=colors[name],label=names[name], mec='none')\n",
    "    ax.set_aspect('auto')\n",
    "    ax.tick_params(axis='x',which='both',bottom='off',top='off',labelbottom='off')\n",
    "    ax.tick_params(axis= 'y',which='both',left='off',top='off',labelleft='off')\n",
    "    \n",
    "ax.legend()\n",
    "ax.set_title(\"Customers Segmentation based on their Credit Card usage bhaviour.\")\n",
    "plt.show()"
   ]
  },
  {
   "cell_type": "markdown",
   "metadata": {
    "id": "f9TTPsNkmZzm"
   },
   "source": [
    "Визуализация получилась гораздо разборчивее!"
   ]
  },
  {
   "cell_type": "markdown",
   "metadata": {
    "id": "B7Rlf68BmZzm"
   },
   "source": [
    "### Задача 8.5\n",
    "Что вы можете сказать о визуализации кластеров после преобразования с помощью косинусоидального расстояния:\n",
    "* ничего не изменилось\n",
    "* кластера стали сильнее различимы\n",
    "* картина кластеров приняла форму эллипса\n",
    "* картина кластеров  приняла форму квадрата\n"
   ]
  },
  {
   "cell_type": "markdown",
   "metadata": {
    "id": "YTl5T2ExmZzm"
   },
   "source": [
    "## Выводы\n",
    "В данном задании мы на практике:\n",
    "* определили оптимальное количество кластеров\n",
    "* решили задачу кластеризации\n",
    "* попробовали описать характерные зависимости для каждого кластера\n",
    "* попробовали снизить размерность до 2-х мерной с помощью PCA\n",
    "* преобразовали данные для лучшей визуализации с помощью косинусоидального расстояния."
   ]
  }
 ],
 "metadata": {
  "colab": {
   "collapsed_sections": [],
   "name": "ML-8. Metrics learning. Practic.ipynb",
   "provenance": []
  },
  "kernelspec": {
   "display_name": "Python 3.10.6 64-bit",
   "language": "python",
   "name": "python3"
  },
  "language_info": {
   "codemirror_mode": {
    "name": "ipython",
    "version": 3
   },
   "file_extension": ".py",
   "mimetype": "text/x-python",
   "name": "python",
   "nbconvert_exporter": "python",
   "pygments_lexer": "ipython3",
   "version": "3.10.6"
  },
  "nteract": {
   "version": "0.28.0"
  },
  "vscode": {
   "interpreter": {
    "hash": "ddfef2dff3b289ad6149ca203ea5c3e5eaf5f756391d68f0c5d6060d3fe964ec"
   }
  }
 },
 "nbformat": 4,
 "nbformat_minor": 4
}
